{
 "cells": [
  {
   "cell_type": "code",
   "execution_count": 1,
   "metadata": {},
   "outputs": [],
   "source": [
    "import numpy as np\n",
    "import matplotlib.pyplot as plt\n",
    "import pandas as pds\n",
    "import pathlib \n",
    "import math\n",
    "import cmath\n",
    "from scipy import stats\n",
    "from scipy.constants import k\n",
    "from copy import deepcopy\n",
    "import requests\n",
    "from bs4 import BeautifulSoup\n",
    "import pandas as pd\n",
    "from geopy.geocoders import Nominatim\n",
    "import random\n",
    "import folium\n",
    "%matplotlib inline"
   ]
  },
  {
   "cell_type": "code",
   "execution_count": 53,
   "metadata": {},
   "outputs": [],
   "source": [
    "#generate random data\n",
    "def rand_array(N, n_seed):\n",
    "    np.random.seed(n_seed)\n",
    "    # Create an empty N x N array\n",
    "    arr = np.zeros((N,N))\n",
    "    \n",
    "    # Fill the array with random values\n",
    "    arr = 100*np.round(np.random.rand(N,N),4)\n",
    "    \n",
    "    # Set the diagonal values to zero\n",
    "    np.fill_diagonal(arr, 0)\n",
    "    \n",
    "    return arr"
   ]
  },
  {
   "cell_type": "code",
   "execution_count": 54,
   "metadata": {},
   "outputs": [],
   "source": [
    "dist_array = rand_array(5,2)\n",
    "time_array = rand_array(5,3)"
   ]
  },
  {
   "cell_type": "code",
   "execution_count": null,
   "metadata": {},
   "outputs": [],
   "source": [
    "def cost_function(start_idx, end_idx, distance_matrix, lookup_tables, start_time, travel_time):\n",
    "    \"\"\"\n",
    "    inputs: int start_idx, int end_idx, nparray time_matrix, list[str] lookup_tables\n",
    "    outputs: float cost\n",
    "    description: calculates the cost to go from start_idx to end_idx. These idx correspond to distance matrix.\n",
    "    cost also factors in weather and traffic, information could be obtained from a lookup table\n",
    "    lookup_tables is filepath to csv file, which would be read to generate our lookup table\n",
    "    \"\"\"\n",
    "    \n",
    "    pass"
   ]
  },
  {
   "cell_type": "code",
   "execution_count": 82,
   "metadata": {},
   "outputs": [],
   "source": [
    "def time_table(table_path):\n",
    "    \"\"\"\n",
    "    input: filepath\n",
    "    output: list[int]\n",
    "    description: reads a csv file to return a list for coef\n",
    "    \"\"\"\n",
    "    df = pd.read_csv(table_path)\n",
    "    result = []\n",
    "    for i in range(len(df)):\n",
    "        result.append(df.iloc[i].coef)\n",
    "    return result\n",
    "\n",
    "#change to use delta T\n",
    "def get_coef(start_time, sum_time, coef_list):\n",
    "    \"\"\"\n",
    "    inputs: float start_time, float sum_time, list Kt_list\n",
    "    outputs: float Kw\n",
    "    matches time to Kw, time is in hours. start_time is when deliveries start. sum_time is total travel time so far\n",
    "    \"\"\"\n",
    "    t = start_time + sum_time\n",
    "    t_in = int(trunc(t))\n",
    "    \n",
    "    result = coef_list[t_in]\n",
    "    return result\n"
   ]
  },
  {
   "cell_type": "code",
   "execution_count": 83,
   "metadata": {},
   "outputs": [],
   "source": [
    "Kt_list = time_table(\"traffic_coef.csv\")\n"
   ]
  },
  {
   "cell_type": "code",
   "execution_count": null,
   "metadata": {},
   "outputs": [],
   "source": []
  }
 ],
 "metadata": {
  "kernelspec": {
   "display_name": "Python 3",
   "language": "python",
   "name": "python3"
  },
  "language_info": {
   "codemirror_mode": {
    "name": "ipython",
    "version": 3
   },
   "file_extension": ".py",
   "mimetype": "text/x-python",
   "name": "python",
   "nbconvert_exporter": "python",
   "pygments_lexer": "ipython3",
   "version": "3.8.3"
  }
 },
 "nbformat": 4,
 "nbformat_minor": 4
}
