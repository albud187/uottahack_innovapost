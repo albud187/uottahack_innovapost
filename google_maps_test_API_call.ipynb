{
 "cells": [
  {
   "cell_type": "code",
   "execution_count": 1,
   "metadata": {
    "vscode": {
     "languageId": "javascript"
    }
   },
   "outputs": [],
   "source": [
    "from datetime import datetime\n",
    "import time\n",
    "import responses\n",
    "import googlemaps\n",
    "import numpy as np"
   ]
  },
  {
   "cell_type": "code",
   "execution_count": 5,
   "metadata": {
    "vscode": {
     "languageId": "javascript"
    }
   },
   "outputs": [],
   "source": [
    "origins = [\n",
    "    \"Perth, Australia\",\n",
    "    \"Sydney, Australia\",\n",
    "    \"Melbourne, Australia\",\n",
    "    \"Adelaide, Australia\",\n",
    "    \"Brisbane, Australia\",\n",
    "    \"Uluru, Australia\",\n",
    "    \"Kakadu, Australia\",\n",
    "    \"Blue Mountains, Australia\",\n",
    "    \"Bungle Bungles, Australia\",\n",
    "    \"The Pinnacles, Australia\",\n",
    "]\n",
    "\n",
    "origins2 = [\n",
    "    \"Sydney, Australia\",\n",
    "    \"Melbourne, Australia\",\n",
    "]"
   ]
  },
  {
   "cell_type": "code",
   "execution_count": 15,
   "metadata": {
    "vscode": {
     "languageId": "javascript"
    }
   },
   "outputs": [],
   "source": [
    "\"\"\"\n",
    "This calls the Google Maps API on all pairwise combinations of a supplied list of M addresses, and computes an MxM matrix for distances and times.\n",
    "\n",
    "Input: List of addresses\n",
    "\n",
    "Output: Distance Matrix, Time Matrix\n",
    "\"\"\"\n",
    "\n",
    "def getGoogleTimeDistance(addresses):\n",
    "    gmaps = googlemaps.Client(key='your_api_key_here')\n",
    "\n",
    "    curDate = datetime.now()\n",
    "\n",
    "    time_matrix = np.array([[0] * len(addresses)] * len(addresses))\n",
    "    distance_matrix = np.array([[0] * len(addresses)] * len(addresses))\n",
    "\n",
    "    # Iterate through all possible address combinations.\n",
    "    for i in range(0, len(addresses)):\n",
    "        for j in range(0, len(addresses)):\n",
    "\n",
    "            # Do not calculate distance for the same address\n",
    "            if i == j:\n",
    "                continue\n",
    "           \n",
    "            # Call Google API and get response.\n",
    "            result = gmaps.distance_matrix(addresses[i], addresses[j], mode='driving', units='metric',traffic_model='best_guess', departure_time=curDate)\n",
    "\n",
    "            # Index to relevant part of response JSON File.\n",
    "            curElement = result['rows'][0]['elements'][0]\n",
    "\n",
    "            # Update matrices\n",
    "            distance_matrix[i][j] = curElement['distance']['value']\n",
    "            time_matrix[i][j] = curElement['duration']['value']\n",
    "\n",
    "    return time_matrix, distance_matrix\n",
    "           "
   ]
  },
  {
   "cell_type": "code",
   "execution_count": 17,
   "metadata": {
    "vscode": {
     "languageId": "javascript"
    }
   },
   "outputs": [
    {
     "name": "stdout",
     "output_type": "stream",
     "text": [
      "[[    0 32000]\n",
      " [32311     0]]\n",
      "[[     0 877722]\n",
      " [878626      0]]\n"
     ]
    }
   ],
   "source": [
    "test1, test2 = getGoogleTimeDistance(origins2)\n",
    "\n",
    "print(test1)\n",
    "print(test2)"
   ]
  }
 ],
 "metadata": {
  "kernelspec": {
   "display_name": "Python 3",
   "language": "python",
   "name": "python3"
  },
  "language_info": {
   "codemirror_mode": {
    "name": "ipython",
    "version": 3
   },
   "file_extension": ".py",
   "mimetype": "text/x-python",
   "name": "python",
   "nbconvert_exporter": "python",
   "pygments_lexer": "ipython3",
   "version": "3.10.4"
  },
  "orig_nbformat": 4,
  "vscode": {
   "interpreter": {
    "hash": "4593b52a31704b5155580280f0f05a500adb36bf97584c7e94e26dfe17ea16d9"
   }
  }
 },
 "nbformat": 4,
 "nbformat_minor": 2
}
