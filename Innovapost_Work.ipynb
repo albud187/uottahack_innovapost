{
 "cells": [
  {
   "cell_type": "code",
   "execution_count": 9,
   "metadata": {},
   "outputs": [],
   "source": [
    "import numpy as np\n",
    "import matplotlib.pyplot as plt\n",
    "import pandas as pds\n",
    "import pathlib \n",
    "import math\n",
    "import cmath\n",
    "from scipy import stats\n",
    "from scipy.constants import k\n",
    "from copy import deepcopy\n",
    "import requests\n",
    "from bs4 import BeautifulSoup\n",
    "import pandas as pd\n",
    "from geopy.geocoders import Nominatim\n",
    "import random\n",
    "import folium\n",
    "from datetime import datetime\n",
    "import time\n",
    "import responses\n",
    "import googlemaps\n",
    "import numpy as np\n",
    "import copy\n",
    "from sklearn.cluster import KMeans\n",
    "%matplotlib inline\n",
    "import pickle"
   ]
  },
  {
   "cell_type": "code",
   "execution_count": null,
   "metadata": {},
   "outputs": [],
   "source": []
  },
  {
   "cell_type": "code",
   "execution_count": 10,
   "metadata": {},
   "outputs": [],
   "source": [
    "with open(\"API_key.txt\", \"r\") as f:\n",
    "    GMAP_API_KEY = f.read()\n",
    "\"\"\"\n",
    "This calls the Google Maps API on all pairwise combinations of a supplied list of M addresses, and computes an MxM matrix for distances and times.\n",
    "\n",
    "Input: List of addresses\n",
    "\n",
    "Output: Distance Matrix, Time Matrix, in seconds and in meters\n",
    "\"\"\"\n",
    "\n",
    "def getGoogleTimeDistance(addresses):\n",
    "    gmaps = googlemaps.Client(key=GMAP_API_KEY)\n",
    "\n",
    "    curDate = datetime.now()\n",
    "\n",
    "    time_matrix = np.array([[0] * len(addresses)] * len(addresses))\n",
    "    distance_matrix = np.array([[0] * len(addresses)] * len(addresses))\n",
    "\n",
    "    # Iterate through all possible address combinations.\n",
    "    for i in range(0, len(addresses)):\n",
    "        for j in range(0, len(addresses)):\n",
    "\n",
    "            # Do not calculate distance for the same address\n",
    "            if i == j:\n",
    "                continue\n",
    "           \n",
    "            # Call Google API and get response.\n",
    "            result = gmaps.distance_matrix(addresses[i], addresses[j], mode='driving', units='metric',traffic_model='best_guess', departure_time=curDate)\n",
    "\n",
    "            # Index to relevant part of response JSON File.\n",
    "            curElement = result['rows'][0]['elements'][0]\n",
    "\n",
    "            # Update matrices\n",
    "            distance_matrix[i][j] = curElement['distance']['value']\n",
    "            time_matrix[i][j] = curElement['duration']['value']\n",
    "\n",
    "    return time_matrix, distance_matrix\n",
    "\n",
    "def coords_from_address(address):\n",
    "    \"\"\"\n",
    "    inputs: str address\n",
    "    outputs: tuple[float]  result_loc\n",
    "    description: converts address to into latitude and longitude\n",
    "    \"\"\"\n",
    "    geolocator = Nominatim(user_agent = \"test\")\n",
    "    location = geolocator.geocode(address)\n",
    "    result_loc = (location.latitude, location.longitude)\n",
    "    return result_loc\n",
    "\n",
    "def write_gps_to_csv(gps_list, filename):\n",
    "    df = pd.DataFrame(gps_list, columns=['Latitude', 'Longitude'])\n",
    "    df.to_csv(filename, index=False)\n",
    "    \n",
    "#write_gps_to_csv(all_coords, \"coords.csv\")"
   ]
  },
  {
   "cell_type": "code",
   "execution_count": 11,
   "metadata": {},
   "outputs": [
    {
     "name": "stdout",
     "output_type": "stream",
     "text": [
      "2701 Riverside Dr, Ottawa\n",
      "2515 Bank St, Ottawa\n",
      "30 Haxby Private, Ottawa\n",
      "116 Sai Crescent\n",
      "214 Plymouth St, Ottawa\n",
      "266 Lorry Greenberg Dr, Ottawa\n",
      "800 King Edward Ave, Ottawa\n",
      "2210 Bank St, Ottawa\n",
      "2161 Thurston Dr, Ottawa\n",
      "23 Ella Street, Ottawa\n",
      "11 Oblats Avenue, Ottawa\n",
      "422 Byron Avenue, Ottawa\n",
      "1680 Fisher Avenue, Ottawa\n",
      "825 Cahill Drive, Ottawa\n",
      "1125 Colonel By Dr, Ottawa\n",
      "54 Hawk Crescent, Ottawa\n",
      "1380 Prince of Wales Drive, Ottawa\n",
      "75 Laurier Ave. E, Ottawa, Ontario, Canada\n",
      "14 Waller St, Ottawa, Ontario, Canada\n",
      "363 Rideau St, Ottawa, Ontario, Canada\n"
     ]
    }
   ],
   "source": [
    "coords = []\n",
    "addrs = [\n",
    "    \"2701 Riverside Dr, Ottawa\",\n",
    "    \"2515 Bank St, Ottawa\",\n",
    "    \"30 Haxby Private, Ottawa\",\n",
    "    \"116 Sai Crescent\",\n",
    "    \"214 Plymouth St, Ottawa\",\n",
    "    \"266 Lorry Greenberg Dr, Ottawa\",\n",
    "    \"800 King Edward Ave, Ottawa\",\n",
    "    \"2210 Bank St, Ottawa\",\n",
    "    \"2161 Thurston Dr, Ottawa\",\n",
    "    \"23 Ella Street, Ottawa\",\n",
    "    \"11 Oblats Avenue, Ottawa\",\n",
    "    \"422 Byron Avenue, Ottawa\",\n",
    "    \"1680 Fisher Avenue, Ottawa\",\n",
    "    \"825 Cahill Drive, Ottawa\",\n",
    "    \"1125 Colonel By Dr, Ottawa\",\n",
    "    \"54 Hawk Crescent, Ottawa\",\n",
    "    \"1380 Prince of Wales Drive, Ottawa\",\n",
    "    \"75 Laurier Ave. E, Ottawa, Ontario, Canada\",\n",
    "    \"14 Waller St, Ottawa, Ontario, Canada\",\n",
    "    \"363 Rideau St, Ottawa, Ontario, Canada\",]\n",
    "\n",
    "for addr in addrs:\n",
    "    print(addr)\n",
    "    coords.append(coords_from_address(addr))\n",
    "    time.sleep(1)\n",
    "\n",
    "\n"
   ]
  },
  {
   "cell_type": "code",
   "execution_count": 49,
   "metadata": {},
   "outputs": [
    {
     "data": {
      "text/plain": [
       "20"
      ]
     },
     "execution_count": 49,
     "metadata": {},
     "output_type": "execute_result"
    }
   ],
   "source": []
  },
  {
   "cell_type": "code",
   "execution_count": null,
   "metadata": {},
   "outputs": [],
   "source": [
    "#T_mat, D_mat = getGoogleTimeDistance(addrs)\n"
   ]
  },
  {
   "cell_type": "code",
   "execution_count": 36,
   "metadata": {},
   "outputs": [],
   "source": [
    "#pickle\n",
    "with open('T_mat','wb') as f1: \n",
    "    pickle.dump(T_mat, f1)\n",
    "\n",
    "with open('T_mat','rb') as f2:\n",
    "    new_T_mat = pickle.load(f2)\n",
    "    \n",
    "with open('D_mat','wb') as f3: \n",
    "    pickle.dump(D_mat, f3)\n",
    "\n",
    "with open('D_mat','rb') as f4:\n",
    "    new_D_mat = pickle.load(f4)"
   ]
  },
  {
   "cell_type": "code",
   "execution_count": 41,
   "metadata": {},
   "outputs": [],
   "source": [
    "\n",
    "\n",
    "\n",
    "\n"
   ]
  },
  {
   "cell_type": "code",
   "execution_count": 36,
   "metadata": {},
   "outputs": [],
   "source": [
    "def assign_destinations(delivery_coordinates, addresses, n_trucks):\n",
    "    \"\"\"\n",
    "    inputs: list(tuple) delivery coordinates, int n_trucks\n",
    "    outputs: dict[list[int]] Allocation\n",
    "    determines which trucks go where, referencing index of original address list and D_mat\n",
    "    \"\"\"\n",
    "    coords_array = np.array(delivery_coords)\n",
    "    kmeans = KMeans(n_clusters=n_trucks).fit(coords_array) \n",
    "    cluster_map = pd.DataFrame()\n",
    "    #add one because the start location isnt counted\n",
    "    cluster_map['destination_index'] = np.arange(len(coords_array))\n",
    "    cluster_map['cluster'] = kmeans.labels_\n",
    "    \n",
    "    Allocation = {}\n",
    "    for c_idx in set(cluster_map[\"cluster\"]):\n",
    "        location_details = []\n",
    "        \n",
    "        destination_idxs = list(cluster_map[cluster_map[\"cluster\"]==c_idx][\"destination_index\"])\n",
    "        for i in destination_idxs:\n",
    "            \n",
    "            loc_detail = (i+1, delivery_coordinates[i], addresses[i])\n",
    "            \n",
    "            location_details.append(loc_detail)\n",
    "            \n",
    "        Allocation[c_idx] = location_details\n",
    "        #print(Allocation)\n",
    "        \n",
    "    return Allocation\n",
    "\n",
    "def make_symmetrical(matrix):\n",
    "    n = len(matrix)\n",
    "    for i in range(n):\n",
    "        for j in range(i+1, n):\n",
    "            if matrix[i][j] > matrix[j][i]:\n",
    "                matrix[j][i] = matrix[i][j]\n",
    "            else:\n",
    "                matrix[i][j] = matrix[j][i]\n",
    "    return matrix\n",
    "\n",
    "def sub_DT_mats(Allocation):\n",
    "    \"\"\"\n",
    "    input dict[list[int]] Allocation\n",
    "    output:  dict[nparray] T_mats, dict[nparray] D_mats\n",
    "    description: calculates distance and time matrices for allocation with distance and time matrices\n",
    "    \"\"\"\n",
    "    T_mats = {}\n",
    "    D_mats = {}\n",
    "    for t in Allocation.keys():\n",
    "        #start with canada post address\n",
    "        addresses = [\"2701 Riverside Dr, Ottawa\"]\n",
    "        for loc_detail in Allocation[t]:\n",
    "            addresses.append(loc_detail[2])\n",
    "        T_mat, D_mat = getGoogleTimeDistance(addresses)\n",
    "        T_mats[t] = make_symmetrical(T_mat)\n",
    "        D_mats[t] = make_symmetrical(D_mat)\n",
    "        \n",
    "    return T_mats, D_mats\n",
    "\n",
    "def initial_configs(Allocation):\n",
    "    result = copy.deepcopy(Allocation)\n",
    "    \n",
    "    \n",
    "    for t in result.keys():\n",
    "        for i in range(len(result[t])):\n",
    "            result[t][i]=i+1\n",
    "        result[t].insert(0,0)\n",
    "    return result\n"
   ]
  },
  {
   "cell_type": "code",
   "execution_count": 21,
   "metadata": {},
   "outputs": [],
   "source": [
    "start_configs = initial_configs(allocated_destinations)"
   ]
  },
  {
   "cell_type": "code",
   "execution_count": 37,
   "metadata": {},
   "outputs": [],
   "source": [
    "#get delivery coordinates and addresses\n",
    "delivery_coords = coords[1:]\n",
    "delivery_addrs = addrs[1:]\n",
    "n_trucks = 3\n",
    "allocated_destinations = assign_destinations(delivery_coords, delivery_addrs, n_trucks)\n",
    "start_configs = initial_configs(allocated_destinations)\n",
    "T_mats, D_mats = sub_DT_mats(allocated_destinations)"
   ]
  },
  {
   "cell_type": "code",
   "execution_count": null,
   "metadata": {},
   "outputs": [],
   "source": []
  },
  {
   "cell_type": "code",
   "execution_count": null,
   "metadata": {},
   "outputs": [],
   "source": []
  },
  {
   "cell_type": "code",
   "execution_count": 38,
   "metadata": {},
   "outputs": [
    {
     "data": {
      "text/plain": [
       "{0: array([[  0, 637, 661, 826, 686, 530, 756, 618, 614],\n",
       "        [637,   0, 359, 494, 344, 308, 435, 409, 405],\n",
       "        [661, 359,   0, 443, 184, 348, 279, 560, 578],\n",
       "        [826, 494, 443,   0, 401, 641, 335, 709, 727],\n",
       "        [686, 344, 184, 401,   0, 426, 243, 558, 577],\n",
       "        [530, 308, 348, 641, 426,   0, 521, 403, 421],\n",
       "        [756, 435, 279, 335, 243, 521,   0, 650, 668],\n",
       "        [618, 409, 560, 709, 558, 403, 650,   0, 239],\n",
       "        [614, 405, 578, 727, 577, 421, 668, 239,   0]]),\n",
       " 1: array([[  0, 486, 857, 406, 600, 806, 950, 952],\n",
       "        [486,   0, 769, 311, 547, 718, 767, 782],\n",
       "        [857, 769,   0, 716, 405, 312, 557, 392],\n",
       "        [406, 311, 716,   0, 518, 665, 765, 803],\n",
       "        [600, 547, 405, 518,   0, 354, 583, 543],\n",
       "        [806, 718, 312, 665, 354,   0, 369, 266],\n",
       "        [950, 767, 557, 765, 583, 369,   0, 238],\n",
       "        [952, 782, 392, 803, 543, 266, 238,   0]]),\n",
       " 2: array([[  0, 757, 388, 408, 281],\n",
       "        [757,   0, 691, 911, 785],\n",
       "        [388, 691,   0, 557, 307],\n",
       "        [408, 911, 557,   0, 503],\n",
       "        [281, 785, 307, 503,   0]])}"
      ]
     },
     "execution_count": 38,
     "metadata": {},
     "output_type": "execute_result"
    }
   ],
   "source": [
    "T_mats"
   ]
  },
  {
   "cell_type": "code",
   "execution_count": 22,
   "metadata": {},
   "outputs": [
    {
     "data": {
      "text/plain": [
       "{0: [0, 1, 2, 3, 4],\n",
       " 1: [0, 1, 2, 3, 4, 5, 6, 7, 8],\n",
       " 2: [0, 1, 2, 3, 4, 5, 6, 7]}"
      ]
     },
     "execution_count": 22,
     "metadata": {},
     "output_type": "execute_result"
    }
   ],
   "source": [
    "start_configs"
   ]
  },
  {
   "cell_type": "code",
   "execution_count": 19,
   "metadata": {},
   "outputs": [
    {
     "data": {
      "text/plain": [
       "19"
      ]
     },
     "execution_count": 19,
     "metadata": {},
     "output_type": "execute_result"
    }
   ],
   "source": [
    "4+8+7"
   ]
  },
  {
   "cell_type": "code",
   "execution_count": 39,
   "metadata": {},
   "outputs": [],
   "source": [
    "def calc_route_length(config, D_mat):\n",
    "    \n",
    "    route_length = 0\n",
    "    #print(D_mat)\n",
    "    #For each city, calculate the distance between it and previous.\n",
    "    for i in range(len(config)):\n",
    "        start_idx = config[i-1]\n",
    "        end_idx = config[i]\n",
    "        #print(start_idx,end_idx)\n",
    "        \n",
    "        d = D_mat[start_idx][end_idx]\n",
    "        route_length = route_length + d\n",
    "        \n",
    "    return route_length\n",
    "\n",
    "#Define a function to generate a trial configuration where we swap the order of visiting two cities.\n",
    "def generate_trial_config(config):\n",
    "    \n",
    "    #Make a deep copy so we don't accidentally mess up our config:\n",
    "    trial_config = deepcopy(config)\n",
    "    \n",
    "    #Generate one random city to switch:\n",
    "    first_swap = np.random.randint(0, len(config))\n",
    "    #Assign this value to our second swap:\n",
    "    second_swap = first_swap\n",
    "    \n",
    "    #Generate a second random city to switch, making sure it's different from our first:\n",
    "    while second_swap == first_swap:\n",
    "        second_swap = np.random.randint(0, len(config))\n",
    "    \n",
    "    #Now swap our indices:\n",
    "    hold_value = deepcopy(trial_config[first_swap])\n",
    "    trial_config[first_swap] = trial_config[second_swap]\n",
    "    trial_config[second_swap] = hold_value\n",
    "    \n",
    "    #print(trial_config)\n",
    "    \n",
    "    return trial_config, first_swap, second_swap\n",
    "\n",
    "def calc_distance_change(config, trial_config, first_swap, second_swap, D_mat):\n",
    "    \n",
    "    #Calculate original distance:\n",
    "    idx_i = config[first_swap]\n",
    "    #print(idx_i)\n",
    "    #Distance between first swap -1:\n",
    "    idx_1_min = config[first_swap-1]\n",
    "   \n",
    "    #Pythagorean theorem:\n",
    "    \n",
    "    d_one_min = D_mat[idx_i][idx_1_min]\n",
    "    #Distance between first swap +1, set our bounds on our array of values:\n",
    "    if (first_swap + 1) > (len(config)-1):\n",
    "        swap_max = 0\n",
    "    else:\n",
    "        swap_max = first_swap +1\n",
    "    idx_1_max = config[swap_max]\n",
    "    \n",
    "    #Pythagoran theorem:\n",
    "    d_one_max = D_mat[idx_1_max][idx_i]\n",
    "    #Distance between second swap -1:\n",
    "    idx_j = config[second_swap]\n",
    "    idx_2_min = config[second_swap-1]\n",
    "    \n",
    "    #Pythagorean theorem:\n",
    "    \n",
    "    d_two_min = D_mat[idx_j][idx_2_min]\n",
    "    #Distance between second swap +1, set our bounds on array of values:\n",
    "    if (second_swap + 1) > (len(config)-1):\n",
    "        swap_max = 0\n",
    "    else:\n",
    "        swap_max = second_swap +1\n",
    "        \n",
    "    idx_2_max = config[swap_max]\n",
    "    \n",
    "    #Pythagorean theorem:\n",
    "    d_two_max = D_mat[idx_2_max][idx_j]\n",
    "    \n",
    "    #Now we have our original distance that navigating to these points took:\n",
    "    original_distance = d_one_min + d_one_max + d_two_min + d_two_max\n",
    "    #print(original_distance)\n",
    "    \n",
    "    #Now repeat for the trial configuration...\n",
    "    #Calculate original distance:\n",
    "    idx_i = trial_config[first_swap]\n",
    "    \n",
    "    #Distance between first swap -1:\n",
    "    idx_1_min =  trial_config[first_swap-1]\n",
    "   \n",
    "    #Pythagorean theorem:\n",
    "    d_one_min = D_mat[idx_i][idx_1_min]\n",
    "    #Distance between first swap +1, set our bounds on our array of values:\n",
    "    if (first_swap + 1) > (len(trial_config)-1):\n",
    "        swap_max = 0\n",
    "    else:\n",
    "        swap_max = first_swap +1\n",
    "    idx_1_max = trial_config[swap_max]\n",
    "    \n",
    "    #Pythagoran theorem:\n",
    "    \n",
    "    d_one_max = D_mat[idx_1_max][idx_i]\n",
    "    \n",
    "    #Distance between second swap -1:\n",
    "    idx_j = trial_config[second_swap]\n",
    "    idx_2_min = trial_config[second_swap-1]\n",
    "    \n",
    "    #Pythagorean theorem:\n",
    "   \n",
    "    d_two_min = D_mat[idx_j][idx_2_min]\n",
    "    #Distance between second swap +1, set our bounds on array of values:\n",
    "    if (second_swap + 1) > (len(config)-1):\n",
    "        swap_max = 0\n",
    "    else:\n",
    "        swap_max = second_swap +1\n",
    "    idx_2_max = trial_config[swap_max]\n",
    "    \n",
    "    #Pythagorean theorem:\n",
    "    d_two_max = D_mat[idx_2_max][idx_j]\n",
    "    #Now we have our new distance that navigating to these points took:\n",
    "    new_distance = d_one_min + d_one_max + d_two_min + d_two_max\n",
    "    #print(new_distance)\n",
    "    \n",
    "    #Calculate our change in distance:\n",
    "    delta_d = new_distance - original_distance\n",
    "    #print(delta_d)\n",
    "    \n",
    "    return delta_d\n",
    "\n",
    "#Define a function to calculate our probability and evaluate it:\n",
    "def evaluate_route_change(delta_d, T):\n",
    "    \n",
    "    #Calculate our probability:\n",
    "    P = math.exp((-1*delta_d)/(T))\n",
    "    #Geneate uniform random variable:\n",
    "    u = np.random.uniform()\n",
    "    #Estimate whether we're keeping this or not:\n",
    "    if u <= P:\n",
    "        accept = True\n",
    "    else:\n",
    "        accept = False\n",
    "    \n",
    "    return accept\n",
    "\n",
    "\n",
    "def minimize_route(config, T, roc_tol, mean_samples, D_mat):\n",
    "    \n",
    "    #Create counter for our number of steps, and initial large value for rate of change:\n",
    "    numsteps = 0\n",
    "    roc = 10*roc_tol\n",
    "    \n",
    "    #Find our initial route length - we'll need this later...\n",
    "    route_length = calc_route_length(config, D_mat)\n",
    "    #Create array to store new route lengths:\n",
    "    route_lengths = []\n",
    "    \n",
    "    #Want rate of change of our config over some number of steps to be small...\n",
    "    while roc > roc_tol:\n",
    "        \n",
    "        #Generate trial configuration and calulate change in distance:\n",
    "        trial_config, first_swap, second_swap = generate_trial_config(config)\n",
    "        delta_d = calc_distance_change(config, trial_config, first_swap, second_swap, D_mat)\n",
    "        \n",
    "        #Evaluate if we are keeping our new configuration or not...\n",
    "        if delta_d <= 0:\n",
    "            config = deepcopy(trial_config)\n",
    "            route_length = route_length + delta_d\n",
    "            route_lengths.append(route_length)\n",
    "            #Increment numsteps counter:\n",
    "            numsteps = numsteps +1\n",
    "        else:\n",
    "            accept = evaluate_route_change(delta_d, T)\n",
    "            if accept == True:\n",
    "                config = deepcopy(trial_config)\n",
    "                route_length = route_length + delta_d\n",
    "                route_lengths.append(route_length)\n",
    "                #Increment numsteps counter:\n",
    "                numsteps = numsteps +1\n",
    "            else: \n",
    "                pass\n",
    "        \n",
    "        #If we have more than 100 steps, evaluate our mean route length over the last 50 steps,\n",
    "        #compare to the 50 before, and see what our rate of change is.\n",
    "        if numsteps > (mean_samples*2):\n",
    "            new_mean = np.mean(route_lengths[numsteps-mean_samples:])\n",
    "            old_mean = np.mean(route_lengths[numsteps-(mean_samples*2):numsteps-mean_samples])\n",
    "            roc = abs(new_mean - old_mean)\n",
    "            \n",
    "    return config, route_lengths\n",
    "\n",
    "\n",
    "\n",
    "def travelling_salesman(initial_config, initial_T, delta_T, roc_tol_at_T, roc_tol, mean_samples, failsafe, D_mat):\n",
    "    #print(D_mat)\n",
    "    #Generate initial configuration:\n",
    "    #initial_config = config_idx\n",
    "    #print(initial_config)\n",
    "    #Create equivalent of do-while loop:\n",
    "    while True:\n",
    "        #Do some math with our original route, including calculating route lengths etc.\n",
    "        config = initial_config\n",
    "        old_route_length = calc_route_length(config, D_mat)\n",
    "        \n",
    "        old_route_lengths = []\n",
    "        old_route_lengths.append(old_route_length)\n",
    "        #Create set of unique routes.\n",
    "        unique_routes = set(np.around(old_route_lengths,3))\n",
    "        #Set an initial roc we can evaluate against.\n",
    "        roc = 10*roc_tol\n",
    "        #Set our initial T.\n",
    "        T = initial_T\n",
    "        print(T)\n",
    "        #Run while our roc is greater than our tol, and our temperature is above 0:\n",
    "        while (roc > roc_tol) and (T > 0):\n",
    "            #Minimize route at current T:\n",
    "            config, route_lengths =  minimize_route(config, T, roc_tol, mean_samples, D_mat)\n",
    "            #print(route_lengths)\n",
    "            #If we've come up with a shorter route:\n",
    "            if len(route_lengths) != 0:\n",
    "                #Calculate change in mean:\n",
    "                old_mean = np.mean(old_route_lengths)\n",
    "                new_mean = np.mean(route_lengths)\n",
    "                roc = abs(new_mean - old_mean)\n",
    "                #If our roc is still greater:\n",
    "                if roc > roc_tol:\n",
    "                    #Swap over and update our recent routes...\n",
    "                    old_route_lengths = deepcopy(route_lengths)\n",
    "                    temp_set_routes = set(np.around(old_route_lengths,3))\n",
    "                    unique_routes = unique_routes.union(temp_set_routes)\n",
    "                else:\n",
    "                    pass\n",
    "            else:\n",
    "                pass\n",
    "            \n",
    "            #Increment T downwards...\n",
    "            T = T - delta_T\n",
    "            print(T)\n",
    "            \n",
    "            #If T goes below zero...\n",
    "            if T <= 0:\n",
    "                route_lengths.append(old_route_lengths[-1])\n",
    "            else:\n",
    "                pass\n",
    "        \n",
    "        #Sort our set of routes so we can use these in failsafe.\n",
    "        sorted_routes = sorted(unique_routes)\n",
    "        #print(sorted_routes)\n",
    "            \n",
    "        #If we're not using the failsafe, or if our route is as short as the shortest possible route after hitting roc tolerance, break the loop.\n",
    "        if (failsafe == False) or (round(route_lengths[-1],3) <= (round(sorted_routes[0],3)+0.001)):\n",
    "            break\n",
    "    \n",
    "    return config, unique_routes, route_lengths[-1]\n"
   ]
  },
  {
   "cell_type": "code",
   "execution_count": 6,
   "metadata": {},
   "outputs": [],
   "source": [
    "config0 = [(168, 15), (493, 72), (22, 299), (466, 75), (360, 263)]\n",
    "config_idx = [0,1,2,3,4]\n",
    "D_mat = np.zeros((len(config0), len(config0)))\n",
    "for i in range(len(config0)):\n",
    "    for k in range(len(config0)):\n",
    "        if i !=k:\n",
    "            D_mat[i][k] = np.sqrt((config0[i][0]-config0[k][0])**2+(config0[i][1]-config0[k][1])**2)"
   ]
  },
  {
   "cell_type": "code",
   "execution_count": 40,
   "metadata": {},
   "outputs": [
    {
     "name": "stdout",
     "output_type": "stream",
     "text": [
      "25\n",
      "24.5\n",
      "24.0\n",
      "23.5\n",
      "23.0\n",
      "22.5\n",
      "22.0\n",
      "21.5\n",
      "21.0\n",
      "20.5\n",
      "20.0\n",
      "19.5\n",
      "19.0\n",
      "18.5\n",
      "18.0\n",
      "17.5\n",
      "17.0\n",
      "16.5\n",
      "16.0\n",
      "15.5\n",
      "15.0\n",
      "14.5\n",
      "[0, 5, 2, 4, 6, 3, 1, 8, 7]\n",
      "3396\n"
     ]
    }
   ],
   "source": [
    "initial_T = 25\n",
    "delta_T = 0.5\n",
    "roc_tol_at_T = 0.1\n",
    "roc_tol = 0.1\n",
    "mean_samples = 100\n",
    "failsafe = False\n",
    "initial_config = start_configs[0]\n",
    "D_mat = T_mats[0]\n",
    "\n",
    "config, unique_routes, final_route_length = travelling_salesman(initial_config, initial_T, delta_T, roc_tol_at_T, roc_tol, mean_samples, failsafe, D_mat)\n",
    "print(config)\n",
    "print(final_route_length)"
   ]
  },
  {
   "cell_type": "code",
   "execution_count": 41,
   "metadata": {},
   "outputs": [
    {
     "name": "stdout",
     "output_type": "stream",
     "text": [
      "25\n",
      "24.5\n",
      "24.0\n",
      "23.5\n",
      "23.0\n",
      "22.5\n",
      "22.0\n",
      "21.5\n",
      "21.0\n",
      "20.5\n",
      "20.0\n",
      "19.5\n",
      "19.0\n",
      "18.5\n",
      "18.0\n",
      "17.5\n",
      "17.0\n",
      "16.5\n",
      "16.0\n",
      "15.5\n",
      "15.0\n",
      "14.5\n",
      "14.0\n",
      "13.5\n",
      "13.0\n",
      "12.5\n",
      "12.0\n",
      "11.5\n",
      "11.0\n",
      "10.5\n",
      "10.0\n",
      "[0, 1, 3, 6, 7, 5, 2, 4]\n",
      "3383\n"
     ]
    }
   ],
   "source": [
    "initial_T = 25\n",
    "delta_T = 0.5\n",
    "roc_tol_at_T = 0.1\n",
    "roc_tol = 0.1\n",
    "mean_samples = 100\n",
    "failsafe = False\n",
    "initial_config = start_configs[1]\n",
    "D_mat = T_mats[1]\n",
    "\n",
    "config, unique_routes, final_route_length = travelling_salesman(initial_config, initial_T, delta_T, roc_tol_at_T, roc_tol, mean_samples, failsafe, D_mat)\n",
    "print(config)\n",
    "print(final_route_length)"
   ]
  },
  {
   "cell_type": "code",
   "execution_count": 42,
   "metadata": {},
   "outputs": [
    {
     "name": "stdout",
     "output_type": "stream",
     "text": [
      "25\n",
      "24.5\n",
      "24.0\n",
      "23.5\n",
      "23.0\n",
      "22.5\n",
      "22.0\n",
      "21.5\n",
      "21.0\n",
      "20.5\n",
      "20.0\n",
      "19.5\n",
      "19.0\n",
      "18.5\n",
      "18.0\n",
      "17.5\n",
      "17.0\n",
      "16.5\n",
      "16.0\n",
      "15.5\n",
      "15.0\n",
      "14.5\n",
      "14.0\n",
      "13.5\n",
      "13.0\n",
      "12.5\n",
      "12.0\n",
      "11.5\n",
      "11.0\n",
      "10.5\n",
      "10.0\n",
      "9.5\n",
      "9.0\n",
      "8.5\n",
      "8.0\n",
      "7.5\n",
      "7.0\n",
      "6.5\n",
      "6.0\n"
     ]
    },
    {
     "ename": "KeyboardInterrupt",
     "evalue": "",
     "output_type": "error",
     "traceback": [
      "\u001b[1;31m---------------------------------------------------------------------------\u001b[0m",
      "\u001b[1;31mKeyboardInterrupt\u001b[0m                         Traceback (most recent call last)",
      "\u001b[1;32m<ipython-input-42-fd13380d0061>\u001b[0m in \u001b[0;36m<module>\u001b[1;34m\u001b[0m\n\u001b[0;32m      8\u001b[0m \u001b[0mD_mat\u001b[0m \u001b[1;33m=\u001b[0m \u001b[0mT_mats\u001b[0m\u001b[1;33m[\u001b[0m\u001b[1;36m2\u001b[0m\u001b[1;33m]\u001b[0m\u001b[1;33m\u001b[0m\u001b[1;33m\u001b[0m\u001b[0m\n\u001b[0;32m      9\u001b[0m \u001b[1;33m\u001b[0m\u001b[0m\n\u001b[1;32m---> 10\u001b[1;33m \u001b[0mconfig\u001b[0m\u001b[1;33m,\u001b[0m \u001b[0munique_routes\u001b[0m\u001b[1;33m,\u001b[0m \u001b[0mfinal_route_length\u001b[0m \u001b[1;33m=\u001b[0m \u001b[0mtravelling_salesman\u001b[0m\u001b[1;33m(\u001b[0m\u001b[0minitial_config\u001b[0m\u001b[1;33m,\u001b[0m \u001b[0minitial_T\u001b[0m\u001b[1;33m,\u001b[0m \u001b[0mdelta_T\u001b[0m\u001b[1;33m,\u001b[0m \u001b[0mroc_tol_at_T\u001b[0m\u001b[1;33m,\u001b[0m \u001b[0mroc_tol\u001b[0m\u001b[1;33m,\u001b[0m \u001b[0mmean_samples\u001b[0m\u001b[1;33m,\u001b[0m \u001b[0mfailsafe\u001b[0m\u001b[1;33m,\u001b[0m \u001b[0mD_mat\u001b[0m\u001b[1;33m)\u001b[0m\u001b[1;33m\u001b[0m\u001b[1;33m\u001b[0m\u001b[0m\n\u001b[0m\u001b[0;32m     11\u001b[0m \u001b[0mprint\u001b[0m\u001b[1;33m(\u001b[0m\u001b[0mconfig\u001b[0m\u001b[1;33m)\u001b[0m\u001b[1;33m\u001b[0m\u001b[1;33m\u001b[0m\u001b[0m\n\u001b[0;32m     12\u001b[0m \u001b[0mprint\u001b[0m\u001b[1;33m(\u001b[0m\u001b[0mfinal_route_length\u001b[0m\u001b[1;33m)\u001b[0m\u001b[1;33m\u001b[0m\u001b[1;33m\u001b[0m\u001b[0m\n",
      "\u001b[1;32m<ipython-input-39-f9c53c19451d>\u001b[0m in \u001b[0;36mtravelling_salesman\u001b[1;34m(initial_config, initial_T, delta_T, roc_tol_at_T, roc_tol, mean_samples, failsafe, D_mat)\u001b[0m\n\u001b[0;32m    212\u001b[0m         \u001b[1;32mwhile\u001b[0m \u001b[1;33m(\u001b[0m\u001b[0mroc\u001b[0m \u001b[1;33m>\u001b[0m \u001b[0mroc_tol\u001b[0m\u001b[1;33m)\u001b[0m \u001b[1;32mand\u001b[0m \u001b[1;33m(\u001b[0m\u001b[0mT\u001b[0m \u001b[1;33m>\u001b[0m \u001b[1;36m0\u001b[0m\u001b[1;33m)\u001b[0m\u001b[1;33m:\u001b[0m\u001b[1;33m\u001b[0m\u001b[1;33m\u001b[0m\u001b[0m\n\u001b[0;32m    213\u001b[0m             \u001b[1;31m#Minimize route at current T:\u001b[0m\u001b[1;33m\u001b[0m\u001b[1;33m\u001b[0m\u001b[1;33m\u001b[0m\u001b[0m\n\u001b[1;32m--> 214\u001b[1;33m             \u001b[0mconfig\u001b[0m\u001b[1;33m,\u001b[0m \u001b[0mroute_lengths\u001b[0m \u001b[1;33m=\u001b[0m  \u001b[0mminimize_route\u001b[0m\u001b[1;33m(\u001b[0m\u001b[0mconfig\u001b[0m\u001b[1;33m,\u001b[0m \u001b[0mT\u001b[0m\u001b[1;33m,\u001b[0m \u001b[0mroc_tol\u001b[0m\u001b[1;33m,\u001b[0m \u001b[0mmean_samples\u001b[0m\u001b[1;33m,\u001b[0m \u001b[0mD_mat\u001b[0m\u001b[1;33m)\u001b[0m\u001b[1;33m\u001b[0m\u001b[1;33m\u001b[0m\u001b[0m\n\u001b[0m\u001b[0;32m    215\u001b[0m             \u001b[1;31m#print(route_lengths)\u001b[0m\u001b[1;33m\u001b[0m\u001b[1;33m\u001b[0m\u001b[1;33m\u001b[0m\u001b[0m\n\u001b[0;32m    216\u001b[0m             \u001b[1;31m#If we've come up with a shorter route:\u001b[0m\u001b[1;33m\u001b[0m\u001b[1;33m\u001b[0m\u001b[1;33m\u001b[0m\u001b[0m\n",
      "\u001b[1;32m<ipython-input-39-f9c53c19451d>\u001b[0m in \u001b[0;36mminimize_route\u001b[1;34m(config, T, roc_tol, mean_samples, D_mat)\u001b[0m\n\u001b[0;32m    168\u001b[0m             \u001b[0mnumsteps\u001b[0m \u001b[1;33m=\u001b[0m \u001b[0mnumsteps\u001b[0m \u001b[1;33m+\u001b[0m\u001b[1;36m1\u001b[0m\u001b[1;33m\u001b[0m\u001b[1;33m\u001b[0m\u001b[0m\n\u001b[0;32m    169\u001b[0m         \u001b[1;32melse\u001b[0m\u001b[1;33m:\u001b[0m\u001b[1;33m\u001b[0m\u001b[1;33m\u001b[0m\u001b[0m\n\u001b[1;32m--> 170\u001b[1;33m             \u001b[0maccept\u001b[0m \u001b[1;33m=\u001b[0m \u001b[0mevaluate_route_change\u001b[0m\u001b[1;33m(\u001b[0m\u001b[0mdelta_d\u001b[0m\u001b[1;33m,\u001b[0m \u001b[0mT\u001b[0m\u001b[1;33m)\u001b[0m\u001b[1;33m\u001b[0m\u001b[1;33m\u001b[0m\u001b[0m\n\u001b[0m\u001b[0;32m    171\u001b[0m             \u001b[1;32mif\u001b[0m \u001b[0maccept\u001b[0m \u001b[1;33m==\u001b[0m \u001b[1;32mTrue\u001b[0m\u001b[1;33m:\u001b[0m\u001b[1;33m\u001b[0m\u001b[1;33m\u001b[0m\u001b[0m\n\u001b[0;32m    172\u001b[0m                 \u001b[0mconfig\u001b[0m \u001b[1;33m=\u001b[0m \u001b[0mdeepcopy\u001b[0m\u001b[1;33m(\u001b[0m\u001b[0mtrial_config\u001b[0m\u001b[1;33m)\u001b[0m\u001b[1;33m\u001b[0m\u001b[1;33m\u001b[0m\u001b[0m\n",
      "\u001b[1;31mKeyboardInterrupt\u001b[0m: "
     ]
    }
   ],
   "source": [
    "initial_T = 25\n",
    "delta_T = 0.5\n",
    "roc_tol_at_T = 0.1\n",
    "roc_tol = 0.1\n",
    "mean_samples = 100\n",
    "failsafe = False\n",
    "initial_config = start_configs[2]\n",
    "D_mat = T_mats[2]\n",
    "\n",
    "config, unique_routes, final_route_length = travelling_salesman(initial_config, initial_T, delta_T, roc_tol_at_T, roc_tol, mean_samples, failsafe, D_mat)\n",
    "print(config)\n",
    "print(final_route_length)"
   ]
  },
  {
   "cell_type": "code",
   "execution_count": 45,
   "metadata": {},
   "outputs": [],
   "source": [
    "T0_seq = [0, 5, 2, 4, 6, 3, 1, 8, 7]\n",
    "T1_seq = [0, 1, 3, 6, 7, 5, 2, 4]\n",
    "T2_seq = [3, 4, 2, 0, 1]\n",
    "\n",
    "T_seq ={0:T0_seq, 1: T1_seq, 2: T2_seq}"
   ]
  },
  {
   "cell_type": "code",
   "execution_count": 77,
   "metadata": {},
   "outputs": [
    {
     "data": {
      "text/plain": [
       "[(0, (45.376031499999996, -75.69003843087424), '2701 Riverside Dr, Ottawa'),\n",
       " (1, (45.354957, -75.64506230308237), '2515 Bank St, Ottawa'),\n",
       " (2, (45.3672374, -75.6380919), '30 Haxby Private, Ottawa'),\n",
       " (3, (45.3774855, -75.60436369326396), '116 Sai Crescent'),\n",
       " (5,\n",
       "  (45.364701999999994, -75.63091190873016),\n",
       "  '266 Lorry Greenberg Dr, Ottawa'),\n",
       " (7, (45.357541999999995, -75.65673606039385), '2210 Bank St, Ottawa'),\n",
       " (8, (45.379631, -75.62287994564527), '2161 Thurston Dr, Ottawa'),\n",
       " (13, (45.3469677, -75.6669562), '825 Cahill Drive, Ottawa'),\n",
       " (15, (45.351226499999996, -75.66258092647058), '54 Hawk Crescent, Ottawa'),\n",
       " (4, (45.4031906, -75.70438670883398), '214 Plymouth St, Ottawa'),\n",
       " (6, (45.4193955, -75.678723), '800 King Edward Ave, Ottawa'),\n",
       " (9, (45.398615500000005, -75.6936179026915), '23 Ella Street, Ottawa'),\n",
       " (10, (45.410856, -75.6751423), '11 Oblats Avenue, Ottawa'),\n",
       " (17, (45.4243786, -75.6868958), '75 Laurier Ave. E, Ottawa, Ontario, Canada'),\n",
       " (18, (45.4269994, -75.6887926), '14 Waller St, Ottawa, Ontario, Canada'),\n",
       " (19,\n",
       "  (45.4301495, -75.68388699779945),\n",
       "  '363 Rideau St, Ottawa, Ontario, Canada'),\n",
       " (11, (45.3917253, -75.7502201), '422 Byron Avenue, Ottawa'),\n",
       " (12, (45.357181499999996, -75.70871728867277), '1680 Fisher Avenue, Ottawa'),\n",
       " (14, (45.3858581, -75.69500411688679), '1125 Colonel By Dr, Ottawa'),\n",
       " (16, (45.3696165, -75.70294693014705), '1380 Prince of Wales Drive, Ottawa')]"
      ]
     },
     "execution_count": 77,
     "metadata": {},
     "output_type": "execute_result"
    }
   ],
   "source": [
    "all_loc_detail"
   ]
  },
  {
   "cell_type": "code",
   "execution_count": null,
   "metadata": {},
   "outputs": [],
   "source": [
    "#match seq to coords"
   ]
  },
  {
   "cell_type": "code",
   "execution_count": 126,
   "metadata": {},
   "outputs": [
    {
     "name": "stdout",
     "output_type": "stream",
     "text": [
      "7\n",
      "2\n",
      "5\n",
      "8\n",
      "3\n",
      "1\n",
      "15\n",
      "13\n",
      "4\n",
      "9\n",
      "18\n",
      "19\n",
      "17\n",
      "6\n",
      "10\n",
      "14\n",
      "16\n",
      "12\n",
      "11\n"
     ]
    }
   ],
   "source": [
    "coord_seq = {}\n",
    "all_loc_detail = [(0, (45.376031499999996, -75.69003843087424), \"2701 Riverside Dr, Ottawa\")]\n",
    "\n",
    "\n",
    "for t in T_seq.keys():\n",
    "    coord_seq[t] = []\n",
    "    all_loc_detail = all_loc_detail + allocated_destinations[t]\n",
    "    \n",
    "    \n",
    "for t in T_seq.keys():\n",
    "    for i in T_seq[t]:\n",
    "\n",
    "        if i != 0:\n",
    "            #subtract by 1\n",
    "            k = i-1\n",
    "            global_index = allocated_destinations[t][k][0]\n",
    "            #match global index with all_loc_detail[j][0]\n",
    "            for loc_det in all_loc_detail:\n",
    "                if global_index == loc_det\n",
    "            coord_seq[t].append(all_loc_detail[global_index][1])\n",
    "            print(global_index)\n",
    "        if i == 0:\n",
    "            global_index = 0\n",
    "            coord_seq[t].append(all_loc_detail[global_index][1])       \n",
    "\n",
    "    "
   ]
  },
  {
   "cell_type": "code",
   "execution_count": 123,
   "metadata": {},
   "outputs": [
    {
     "data": {
      "text/plain": [
       "[(0, (45.376031499999996, -75.69003843087424), '2701 Riverside Dr, Ottawa'),\n",
       " (1, (45.354957, -75.64506230308237), '2515 Bank St, Ottawa'),\n",
       " (2, (45.3672374, -75.6380919), '30 Haxby Private, Ottawa'),\n",
       " (3, (45.3774855, -75.60436369326396), '116 Sai Crescent'),\n",
       " (5,\n",
       "  (45.364701999999994, -75.63091190873016),\n",
       "  '266 Lorry Greenberg Dr, Ottawa'),\n",
       " (7, (45.357541999999995, -75.65673606039385), '2210 Bank St, Ottawa'),\n",
       " (8, (45.379631, -75.62287994564527), '2161 Thurston Dr, Ottawa'),\n",
       " (13, (45.3469677, -75.6669562), '825 Cahill Drive, Ottawa'),\n",
       " (15, (45.351226499999996, -75.66258092647058), '54 Hawk Crescent, Ottawa'),\n",
       " (4, (45.4031906, -75.70438670883398), '214 Plymouth St, Ottawa'),\n",
       " (6, (45.4193955, -75.678723), '800 King Edward Ave, Ottawa'),\n",
       " (9, (45.398615500000005, -75.6936179026915), '23 Ella Street, Ottawa'),\n",
       " (10, (45.410856, -75.6751423), '11 Oblats Avenue, Ottawa'),\n",
       " (17, (45.4243786, -75.6868958), '75 Laurier Ave. E, Ottawa, Ontario, Canada'),\n",
       " (18, (45.4269994, -75.6887926), '14 Waller St, Ottawa, Ontario, Canada'),\n",
       " (19,\n",
       "  (45.4301495, -75.68388699779945),\n",
       "  '363 Rideau St, Ottawa, Ontario, Canada'),\n",
       " (11, (45.3917253, -75.7502201), '422 Byron Avenue, Ottawa'),\n",
       " (12, (45.357181499999996, -75.70871728867277), '1680 Fisher Avenue, Ottawa'),\n",
       " (14, (45.3858581, -75.69500411688679), '1125 Colonel By Dr, Ottawa'),\n",
       " (16, (45.3696165, -75.70294693014705), '1380 Prince of Wales Drive, Ottawa')]"
      ]
     },
     "execution_count": 123,
     "metadata": {},
     "output_type": "execute_result"
    }
   ],
   "source": [
    "all_loc_detail"
   ]
  },
  {
   "cell_type": "code",
   "execution_count": 96,
   "metadata": {},
   "outputs": [
    {
     "data": {
      "text/plain": [
       "[(0, (45.376031499999996, -75.69003843087424), '2701 Riverside Dr, Ottawa'),\n",
       " (1, (45.354957, -75.64506230308237), '2515 Bank St, Ottawa'),\n",
       " (2, (45.3672374, -75.6380919), '30 Haxby Private, Ottawa'),\n",
       " (3, (45.3774855, -75.60436369326396), '116 Sai Crescent'),\n",
       " (5,\n",
       "  (45.364701999999994, -75.63091190873016),\n",
       "  '266 Lorry Greenberg Dr, Ottawa'),\n",
       " (7, (45.357541999999995, -75.65673606039385), '2210 Bank St, Ottawa'),\n",
       " (8, (45.379631, -75.62287994564527), '2161 Thurston Dr, Ottawa'),\n",
       " (13, (45.3469677, -75.6669562), '825 Cahill Drive, Ottawa'),\n",
       " (15, (45.351226499999996, -75.66258092647058), '54 Hawk Crescent, Ottawa')]"
      ]
     },
     "execution_count": 96,
     "metadata": {},
     "output_type": "execute_result"
    }
   ],
   "source": [
    "all_loc_detail"
   ]
  },
  {
   "cell_type": "code",
   "execution_count": 86,
   "metadata": {},
   "outputs": [
    {
     "data": {
      "text/plain": [
       "[(0, (45.376031499999996, -75.69003843087424), '2701 Riverside Dr, Ottawa'),\n",
       " (1, (45.354957, -75.64506230308237), '2515 Bank St, Ottawa'),\n",
       " (2, (45.3672374, -75.6380919), '30 Haxby Private, Ottawa'),\n",
       " (3, (45.3774855, -75.60436369326396), '116 Sai Crescent'),\n",
       " (5,\n",
       "  (45.364701999999994, -75.63091190873016),\n",
       "  '266 Lorry Greenberg Dr, Ottawa'),\n",
       " (7, (45.357541999999995, -75.65673606039385), '2210 Bank St, Ottawa'),\n",
       " (8, (45.379631, -75.62287994564527), '2161 Thurston Dr, Ottawa'),\n",
       " (13, (45.3469677, -75.6669562), '825 Cahill Drive, Ottawa'),\n",
       " (15, (45.351226499999996, -75.66258092647058), '54 Hawk Crescent, Ottawa'),\n",
       " (4, (45.4031906, -75.70438670883398), '214 Plymouth St, Ottawa'),\n",
       " (6, (45.4193955, -75.678723), '800 King Edward Ave, Ottawa'),\n",
       " (9, (45.398615500000005, -75.6936179026915), '23 Ella Street, Ottawa'),\n",
       " (10, (45.410856, -75.6751423), '11 Oblats Avenue, Ottawa'),\n",
       " (17, (45.4243786, -75.6868958), '75 Laurier Ave. E, Ottawa, Ontario, Canada'),\n",
       " (18, (45.4269994, -75.6887926), '14 Waller St, Ottawa, Ontario, Canada'),\n",
       " (19,\n",
       "  (45.4301495, -75.68388699779945),\n",
       "  '363 Rideau St, Ottawa, Ontario, Canada'),\n",
       " (11, (45.3917253, -75.7502201), '422 Byron Avenue, Ottawa'),\n",
       " (12, (45.357181499999996, -75.70871728867277), '1680 Fisher Avenue, Ottawa'),\n",
       " (14, (45.3858581, -75.69500411688679), '1125 Colonel By Dr, Ottawa'),\n",
       " (16, (45.3696165, -75.70294693014705), '1380 Prince of Wales Drive, Ottawa')]"
      ]
     },
     "execution_count": 86,
     "metadata": {},
     "output_type": "execute_result"
    }
   ],
   "source": [
    "all_loc_detail"
   ]
  },
  {
   "cell_type": "code",
   "execution_count": 51,
   "metadata": {},
   "outputs": [
    {
     "data": {
      "text/plain": [
       "8"
      ]
     },
     "execution_count": 51,
     "metadata": {},
     "output_type": "execute_result"
    }
   ],
   "source": [
    "len(allocated_destinations[0])"
   ]
  },
  {
   "cell_type": "code",
   "execution_count": 52,
   "metadata": {},
   "outputs": [
    {
     "data": {
      "text/plain": [
       "9"
      ]
     },
     "execution_count": 52,
     "metadata": {},
     "output_type": "execute_result"
    }
   ],
   "source": [
    "len(T0_seq)"
   ]
  },
  {
   "cell_type": "code",
   "execution_count": null,
   "metadata": {},
   "outputs": [],
   "source": [
    "minimize_route(config, T, roc_tol, mean_samples, D_mat)"
   ]
  },
  {
   "cell_type": "code",
   "execution_count": 25,
   "metadata": {},
   "outputs": [],
   "source": [
    "def cost_function(start_idx, end_idx, distance_matrix, lookup_tables):\n",
    "    \"\"\"\n",
    "    inputs: int start_idx, int end_idx, nparray distance_matrix, list[str] lookup_tables\n",
    "    outputs: float cost\n",
    "    description: calculates the cost to go from start_idx to end_idx. These idx correspond to distance matrix.\n",
    "    cost also factors in weather and traffic, information could be obtained from a lookup table\n",
    "    lookup_tables is filepath to csv file, which would be read to generate our lookup table\n",
    "    \"\"\"\n",
    "    pass\n",
    "\n",
    "def cost_matrix(distance_matrix, time_matrix, lookup_tables):\n",
    "    \"\"\"\n",
    "    inputs: nparray distance_matrix, nparray time_matrix, str lookup_tables \n",
    "    outputs: nparray cost_mat\n",
    "    description: returns an array that calculates the cost to go from one node to another, for all nodes\n",
    "    \"\"\"\n",
    "    pass\n",
    "\n",
    "def cluster_coords(coordinates, N_trucks):\n",
    "    \"\"\"\n",
    "    inputs: list coordinates, int N_trucks\n",
    "    outputs: list[list] grouped_coords\n",
    "    description: groups the coordinates into n_clusters, where N_trucks = n_clusters\n",
    "    grouped_coords is a list of lists containing coordinates, ex: grouped_coords[0] = list of all coordinates in cluster 0\n",
    "    \"\"\"\n",
    "    pass\n",
    "\n",
    "def sTSP(cost_matrix):\n",
    "    \"\"\"\n",
    "    inputs: nparray cost_matrix\n",
    "    outputs: list[tuple]\n",
    "    description: calculates optimal sequence for a delivery truck\n",
    "    \"\"\"\n",
    "    \n",
    "def plot_route(travel_seq):\n",
    "    \"\"\"\n",
    "    inputs: list[tuple] travel_seq\n",
    "    outputs: none\n",
    "    description: visualizes travel route on folium\n",
    "    \"\"\""
   ]
  },
  {
   "cell_type": "code",
   "execution_count": 83,
   "metadata": {},
   "outputs": [
    {
     "ename": "NameError",
     "evalue": "name 'start_config' is not defined",
     "output_type": "error",
     "traceback": [
      "\u001b[1;31m---------------------------------------------------------------------------\u001b[0m",
      "\u001b[1;31mNameError\u001b[0m                                 Traceback (most recent call last)",
      "\u001b[1;32m<ipython-input-83-d5eb67f2ed51>\u001b[0m in \u001b[0;36m<module>\u001b[1;34m\u001b[0m\n\u001b[1;32m----> 1\u001b[1;33m \u001b[0mstart_config\u001b[0m\u001b[1;33m\u001b[0m\u001b[1;33m\u001b[0m\u001b[0m\n\u001b[0m",
      "\u001b[1;31mNameError\u001b[0m: name 'start_config' is not defined"
     ]
    }
   ],
   "source": []
  },
  {
   "cell_type": "code",
   "execution_count": null,
   "metadata": {},
   "outputs": [],
   "source": []
  }
 ],
 "metadata": {
  "kernelspec": {
   "display_name": "Python 3",
   "language": "python",
   "name": "python3"
  },
  "language_info": {
   "codemirror_mode": {
    "name": "ipython",
    "version": 3
   },
   "file_extension": ".py",
   "mimetype": "text/x-python",
   "name": "python",
   "nbconvert_exporter": "python",
   "pygments_lexer": "ipython3",
   "version": "3.8.3"
  }
 },
 "nbformat": 4,
 "nbformat_minor": 4
}
