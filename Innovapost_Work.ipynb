{
 "cells": [
  {
   "cell_type": "code",
   "execution_count": 16,
   "metadata": {},
   "outputs": [],
   "source": [
    "import numpy as np\n",
    "import matplotlib.pyplot as plt\n",
    "import pandas as pds\n",
    "import pathlib \n",
    "import math\n",
    "import cmath\n",
    "from scipy import stats\n",
    "from scipy.constants import k\n",
    "from copy import deepcopy\n",
    "import requests\n",
    "from bs4 import BeautifulSoup\n",
    "import pandas as pd\n",
    "from geopy.geocoders import Nominatim\n",
    "import random\n",
    "import folium\n",
    "from datetime import datetime\n",
    "import time\n",
    "import responses\n",
    "import googlemaps\n",
    "import numpy as np\n",
    "%matplotlib inline\n",
    "import pickle"
   ]
  },
  {
   "cell_type": "code",
   "execution_count": null,
   "metadata": {},
   "outputs": [],
   "source": []
  },
  {
   "cell_type": "code",
   "execution_count": 5,
   "metadata": {},
   "outputs": [],
   "source": [
    "with open(\"API_key.txt\", \"r\") as f:\n",
    "    GMAP_API_KEY = f.read()\n",
    "\"\"\"\n",
    "This calls the Google Maps API on all pairwise combinations of a supplied list of M addresses, and computes an MxM matrix for distances and times.\n",
    "\n",
    "Input: List of addresses\n",
    "\n",
    "Output: Distance Matrix, Time Matrix, in seconds and in meters\n",
    "\"\"\"\n",
    "\n",
    "def getGoogleTimeDistance(addresses):\n",
    "    gmaps = googlemaps.Client(key=GMAP_API_KEY)\n",
    "\n",
    "    curDate = datetime.now()\n",
    "\n",
    "    time_matrix = np.array([[0] * len(addresses)] * len(addresses))\n",
    "    distance_matrix = np.array([[0] * len(addresses)] * len(addresses))\n",
    "\n",
    "    # Iterate through all possible address combinations.\n",
    "    for i in range(0, len(addresses)):\n",
    "        for j in range(0, len(addresses)):\n",
    "\n",
    "            # Do not calculate distance for the same address\n",
    "            if i == j:\n",
    "                continue\n",
    "           \n",
    "            # Call Google API and get response.\n",
    "            result = gmaps.distance_matrix(addresses[i], addresses[j], mode='driving', units='metric',traffic_model='best_guess', departure_time=curDate)\n",
    "\n",
    "            # Index to relevant part of response JSON File.\n",
    "            curElement = result['rows'][0]['elements'][0]\n",
    "\n",
    "            # Update matrices\n",
    "            distance_matrix[i][j] = curElement['distance']['value']\n",
    "            time_matrix[i][j] = curElement['duration']['value']\n",
    "\n",
    "    return time_matrix, distance_matrix\n",
    "\n",
    "def coords_from_address(address):\n",
    "    \"\"\"\n",
    "    inputs: str address\n",
    "    outputs: tuple[float]  result_loc\n",
    "    description: converts address to into latitude and longitude\n",
    "    \"\"\"\n",
    "    geolocator = Nominatim(user_agent = \"test\")\n",
    "    location = geolocator.geocode(address)\n",
    "    result_loc = (location.latitude, location.longitude)\n",
    "    return result_loc\n",
    "\n",
    "def write_gps_to_csv(gps_list, filename):\n",
    "    df = pd.DataFrame(gps_list, columns=['Latitude', 'Longitude'])\n",
    "    df.to_csv(filename, index=False)\n",
    "    \n",
    "#write_gps_to_csv(all_coords, \"coords.csv\")"
   ]
  },
  {
   "cell_type": "code",
   "execution_count": 3,
   "metadata": {},
   "outputs": [],
   "source": [
    "coords1 = []\n",
    "coords2 = []\n",
    "coords3 = []\n",
    "addr1 = [\n",
    "    \"2515 Bank St, Ottawa\",\n",
    "    \"30 Haxby Private, Ottawa\",\n",
    "    \"116 Sai Crescent\",\n",
    "    \"214 Plymouth St, Ottawa\",\n",
    "    \"266 Lorry Greenberg Dr, Ottawa\",\n",
    "    \"800 King Edward Ave, Ottawa\",\n",
    "    \"2210 Bank St, Ottawa\",\n",
    "    \"2161 Thurston Dr, Ottawa\"]\n",
    "\n",
    "addr2 =[\n",
    "    \"23 Ella Street, Ottawa\",\n",
    "    \"11 Oblats Avenue, Ottawa\",\n",
    "    \"422 Byron Avenue, Ottawa\",\n",
    "    \"1680 Fisher Avenue, Ottawa\",\n",
    "    \"825 Cahill Drive, Ottawa\",\n",
    "    \"1125 Colonel By Dr, Ottawa\"]\n",
    "    \n",
    "addr3 = [\n",
    "    \"54 Hawk Crescent, Ottawa\",\n",
    "    \"1380 Prince of Wales Drive, Ottawa\",\n",
    "    \"75 Laurier Ave. E, Ottawa, Ontario, Canada\",\n",
    "    \"14 Waller St, Ottawa, Ontario, Canada\",\n",
    "    \"363 Rideau St, Ottawa, Ontario, Canada\",\n",
    "    \"2701 Riverside Dr, Ottawa\"\n",
    "]"
   ]
  },
  {
   "cell_type": "code",
   "execution_count": null,
   "metadata": {},
   "outputs": [],
   "source": [
    "for addr in addr1:\n",
    "    print(addr)\n",
    "    coords1.append(coords_from_address(addr))\n",
    "    time.sleep(1)\n",
    "    \n",
    "for addr in addr2:\n",
    "    print(addr)\n",
    "    coords2.append(coords_from_address(addr))\n",
    "    time.sleep(1)\n",
    "\n",
    "for addr in addr3:\n",
    "    print(addr)\n",
    "    coords3.append(coords_from_address(addr))\n",
    "    time.sleep(1)\n",
    "all_coords = coords1+coords2+coords3\n"
   ]
  },
  {
   "cell_type": "code",
   "execution_count": 31,
   "metadata": {},
   "outputs": [
    {
     "data": {
      "text/plain": [
       "(45.4193955, -75.678723)"
      ]
     },
     "execution_count": 31,
     "metadata": {},
     "output_type": "execute_result"
    }
   ],
   "source": [
    "T_mat, D_mat = getGoogleTimeDistance(all_addr)\n"
   ]
  },
  {
   "cell_type": "code",
   "execution_count": 17,
   "metadata": {},
   "outputs": [],
   "source": [
    "filename = \"T_mat\"\n",
    "fileObject = open(filename, 'wb')\n",
    "\n",
    "pickle.dump(T_mat, fileObject)\n",
    "fileObject.close()"
   ]
  },
  {
   "cell_type": "code",
   "execution_count": 19,
   "metadata": {},
   "outputs": [],
   "source": [
    "fileObject2 = open(\"T_mat\", 'wb')\n",
    "fileObject2.close()"
   ]
  },
  {
   "cell_type": "code",
   "execution_count": 29,
   "metadata": {},
   "outputs": [],
   "source": [
    "with open('T_mat','wb') as f1: \n",
    "    pickle.dump(T_mat, f1)\n",
    "\n",
    "with open('T_mat','rb') as f2:\n",
    "    new_T_mat = pickle.load(f2)"
   ]
  },
  {
   "cell_type": "code",
   "execution_count": 27,
   "metadata": {},
   "outputs": [],
   "source": [
    "with open('D_mat','wb') as f1: \n",
    "    pickle.dump(D_mat, f1)\n",
    "\n",
    "with open('D_mat','rb') as f2:\n",
    "    new_D_mat = pickle.load(f2)"
   ]
  },
  {
   "cell_type": "code",
   "execution_count": 30,
   "metadata": {},
   "outputs": [
    {
     "data": {
      "text/plain": [
       "array([[   0,  359,  494,  779,  344, 1129,  307,  435,  713,  924, 1194,\n",
       "         828,  409,  752,  405,  667, 1092, 1224, 1229,  526],\n",
       "       [ 346,    0,  443,  920,  184, 1170,  348,  279,  855,  897, 1299,\n",
       "         957,  551,  893,  547,  796, 1133, 1265, 1360,  661],\n",
       "       [ 472,  418,    0,  879,  385,  907,  608,  297, 1013,  942, 1069,\n",
       "        1128,  709, 1052,  705,  967,  870, 1002, 1042,  826],\n",
       "       [ 788,  959, 1020,    0,  971,  769,  815,  943,  311,  547,  434,\n",
       "         656,  716,  471,  712,  543,  718,  767,  782,  486],\n",
       "       [ 245,  176,  401,  852,    0, 1070,  381,  237,  787,  967, 1267,\n",
       "         874,  482,  825,  478,  741, 1033, 1165, 1205,  599],\n",
       "       [1022, 1039,  807,  280,  940,    0, 1082,  830,  420,  224,  470,\n",
       "         830,  826,  580,  822,  789,  312,  557,  392,  596],\n",
       "       [ 308,  346,  641,  705,  426, 1210,    0,  521,  640,  842, 1120,\n",
       "         754,  335,  678,  332,  594, 1159, 1244, 1305,  453],\n",
       "       [ 413,  275,  335,  908,  243,  899,  518,    0,  843,  826, 1266,\n",
       "         949,  650,  881,  646,  813,  862,  994, 1034,  756],\n",
       "       [ 708,  879, 1042,  284,  891,  716,  736,  863,    0,  495,  633,\n",
       "         631,  636,  391,  633,  470,  665,  765,  883,  406],\n",
       "       [ 987,  955,  806,  456,  974,  405,  879,  848,  518,    0,  619,\n",
       "         772,  820,  575,  816,  612,  354,  602,  566,  600],\n",
       "       [1228, 1331, 1173,  647, 1411,  939, 1255, 1315,  751,  694,    0,\n",
       "         691, 1157,  911, 1153,  716,  902,  920,  953,  757],\n",
       "       [ 772,  901, 1106,  632,  955, 1023,  825,  924,  615,  740,  678,\n",
       "           0,  565,  557,  618,  252,  972, 1104, 1287,  335],\n",
       "       [ 375,  560,  709,  739,  558, 1218,  403,  650,  674,  857, 1154,\n",
       "         523,    0,  712,  207,  677, 1167, 1278, 1320,  542],\n",
       "       [ 771,  942, 1105,  532,  955,  902,  799,  926,  467,  619,  881,\n",
       "         528,  700,    0,  696,  368,  851, 1099,  988,  408],\n",
       "       [ 394,  578,  727,  758,  577, 1236,  421,  668,  692,  875, 1266,\n",
       "         615,  239,  731,    0,  696, 1185, 1296, 1339,  561],\n",
       "       [ 719,  847, 1052,  593,  902,  970,  771,  877,  562,  687,  785,\n",
       "         307,  647,  503,  643,    0,  919, 1167, 1234,  281],\n",
       "       [1149, 1166,  934,  407, 1067,  127, 1184,  958,  548,  351,  598,\n",
       "         957,  953,  708,  949,  917,    0,  301,  281,  723],\n",
       "       [1152, 1169,  937,  765, 1070,  422, 1221,  960,  635,  430, 1050,\n",
       "        1015, 1040,  818, 1060,  855,  369,    0,  238,  810],\n",
       "       [1271, 1288, 1056,  599, 1189,  319, 1311, 1079,  818,  543, 1215,\n",
       "        1247, 1399,  899, 1395, 1122,  294,  165,    0, 1020],\n",
       "       [ 637,  606,  826,  428,  686,  857,  530,  589,  363,  489,  705,\n",
       "         388,  618,  401,  614,  260,  806,  950,  952,    0]])"
      ]
     },
     "execution_count": 30,
     "metadata": {},
     "output_type": "execute_result"
    }
   ],
   "source": [
    "new_T_mat"
   ]
  },
  {
   "cell_type": "code",
   "execution_count": 25,
   "metadata": {},
   "outputs": [],
   "source": [
    "\n",
    "def distance_matrix(addresses):\n",
    "    \"\"\"\n",
    "    inputs: list[str] addresses\n",
    "    outputs: dist_mat nparray\n",
    "    description: returns an array that calculates the distance to travel from one address to all other addresses, for all addresses\n",
    "    \"\"\"\n",
    "    pass\n",
    "\n",
    "def time_matrix(addresses):\n",
    "    \"\"\"\n",
    "    inputs: list[str] addresses\n",
    "    outputs: time_mat nparray\n",
    "    description: returns an array that calculates the travel time from one address to all other addresses, for all addresses\n",
    "    \"\"\"\n",
    "    pass\n",
    "\n",
    "def cost_function(start_idx, end_idx, distance_matrix, lookup_tables):\n",
    "    \"\"\"\n",
    "    inputs: int start_idx, int end_idx, nparray distance_matrix, list[str] lookup_tables\n",
    "    outputs: float cost\n",
    "    description: calculates the cost to go from start_idx to end_idx. These idx correspond to distance matrix.\n",
    "    cost also factors in weather and traffic, information could be obtained from a lookup table\n",
    "    lookup_tables is filepath to csv file, which would be read to generate our lookup table\n",
    "    \"\"\"\n",
    "    pass\n",
    "\n",
    "def cost_matrix(distance_matrix, time_matrix, lookup_tables):\n",
    "    \"\"\"\n",
    "    inputs: nparray distance_matrix, nparray time_matrix, str lookup_tables \n",
    "    outputs: nparray cost_mat\n",
    "    description: returns an array that calculates the cost to go from one node to another, for all nodes\n",
    "    \"\"\"\n",
    "    pass\n",
    "\n",
    "def cluster_coords(coordinates, N_trucks):\n",
    "    \"\"\"\n",
    "    inputs: list coordinates, int N_trucks\n",
    "    outputs: list[list] grouped_coords\n",
    "    description: groups the coordinates into n_clusters, where N_trucks = n_clusters\n",
    "    grouped_coords is a list of lists containing coordinates, ex: grouped_coords[0] = list of all coordinates in cluster 0\n",
    "    \"\"\"\n",
    "    pass\n",
    "\n",
    "def sTSP(cost_matrix):\n",
    "    \"\"\"\n",
    "    inputs: nparray cost_matrix\n",
    "    outputs: list[tuple]\n",
    "    description: calculates optimal sequence for a delivery truck\n",
    "    \"\"\"\n",
    "    \n",
    "def plot_route(travel_seq):\n",
    "    \"\"\"\n",
    "    inputs: list[tuple] travel_seq\n",
    "    outputs: none\n",
    "    description: visualizes travel route on folium\n",
    "    \"\"\""
   ]
  },
  {
   "cell_type": "code",
   "execution_count": null,
   "metadata": {},
   "outputs": [],
   "source": []
  }
 ],
 "metadata": {
  "kernelspec": {
   "display_name": "Python 3",
   "language": "python",
   "name": "python3"
  },
  "language_info": {
   "codemirror_mode": {
    "name": "ipython",
    "version": 3
   },
   "file_extension": ".py",
   "mimetype": "text/x-python",
   "name": "python",
   "nbconvert_exporter": "python",
   "pygments_lexer": "ipython3",
   "version": "3.8.3"
  }
 },
 "nbformat": 4,
 "nbformat_minor": 4
}
