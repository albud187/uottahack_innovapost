{
 "cells": [
  {
   "cell_type": "code",
   "execution_count": 16,
   "metadata": {},
   "outputs": [],
   "source": [
    "import numpy as np\n",
    "import matplotlib.pyplot as plt\n",
    "import pandas as pds\n",
    "import pathlib \n",
    "import math\n",
    "import cmath\n",
    "from scipy import stats\n",
    "from scipy.constants import k\n",
    "from copy import deepcopy\n",
    "import requests\n",
    "from bs4 import BeautifulSoup\n",
    "import pandas as pd\n",
    "from geopy.geocoders import Nominatim\n",
    "import random\n",
    "import folium\n",
    "from datetime import datetime\n",
    "import time\n",
    "import responses\n",
    "import googlemaps\n",
    "import numpy as np\n",
    "%matplotlib inline\n",
    "import pickle"
   ]
  },
  {
   "cell_type": "code",
   "execution_count": null,
   "metadata": {},
   "outputs": [],
   "source": []
  },
  {
   "cell_type": "code",
   "execution_count": 32,
   "metadata": {},
   "outputs": [],
   "source": [
    "with open(\"API_key.txt\", \"r\") as f:\n",
    "    GMAP_API_KEY = f.read()\n",
    "\"\"\"\n",
    "This calls the Google Maps API on all pairwise combinations of a supplied list of M addresses, and computes an MxM matrix for distances and times.\n",
    "\n",
    "Input: List of addresses\n",
    "\n",
    "Output: Distance Matrix, Time Matrix, in seconds and in meters\n",
    "\"\"\"\n",
    "\n",
    "def getGoogleTimeDistance(addresses):\n",
    "    gmaps = googlemaps.Client(key=GMAP_API_KEY)\n",
    "\n",
    "    curDate = datetime.now()\n",
    "\n",
    "    time_matrix = np.array([[0] * len(addresses)] * len(addresses))\n",
    "    distance_matrix = np.array([[0] * len(addresses)] * len(addresses))\n",
    "\n",
    "    # Iterate through all possible address combinations.\n",
    "    for i in range(0, len(addresses)):\n",
    "        for j in range(0, len(addresses)):\n",
    "\n",
    "            # Do not calculate distance for the same address\n",
    "            if i == j:\n",
    "                continue\n",
    "           \n",
    "            # Call Google API and get response.\n",
    "            result = gmaps.distance_matrix(addresses[i], addresses[j], mode='driving', units='metric',traffic_model='best_guess', departure_time=curDate)\n",
    "\n",
    "            # Index to relevant part of response JSON File.\n",
    "            curElement = result['rows'][0]['elements'][0]\n",
    "\n",
    "            # Update matrices\n",
    "            distance_matrix[i][j] = curElement['distance']['value']\n",
    "            time_matrix[i][j] = curElement['duration']['value']\n",
    "\n",
    "    return time_matrix, distance_matrix\n",
    "\n",
    "def coords_from_address(address):\n",
    "    \"\"\"\n",
    "    inputs: str address\n",
    "    outputs: tuple[float]  result_loc\n",
    "    description: converts address to into latitude and longitude\n",
    "    \"\"\"\n",
    "    geolocator = Nominatim(user_agent = \"test\")\n",
    "    location = geolocator.geocode(address)\n",
    "    result_loc = (location.latitude, location.longitude)\n",
    "    return result_loc\n",
    "\n",
    "def write_gps_to_csv(gps_list, filename):\n",
    "    df = pd.DataFrame(gps_list, columns=['Latitude', 'Longitude'])\n",
    "    df.to_csv(filename, index=False)\n",
    "    \n",
    "#write_gps_to_csv(all_coords, \"coords.csv\")"
   ]
  },
  {
   "cell_type": "code",
   "execution_count": 33,
   "metadata": {},
   "outputs": [
    {
     "name": "stdout",
     "output_type": "stream",
     "text": [
      "2701 Riverside Dr, Ottawa\n",
      "2515 Bank St, Ottawa\n",
      "30 Haxby Private, Ottawa\n",
      "116 Sai Crescent\n",
      "214 Plymouth St, Ottawa\n",
      "266 Lorry Greenberg Dr, Ottawa\n",
      "800 King Edward Ave, Ottawa\n",
      "2210 Bank St, Ottawa\n",
      "2161 Thurston Dr, Ottawa\n",
      "23 Ella Street, Ottawa\n",
      "11 Oblats Avenue, Ottawa\n",
      "422 Byron Avenue, Ottawa\n",
      "1680 Fisher Avenue, Ottawa\n",
      "825 Cahill Drive, Ottawa\n",
      "1125 Colonel By Dr, Ottawa\n",
      "54 Hawk Crescent, Ottawa\n",
      "1380 Prince of Wales Drive, Ottawa\n",
      "75 Laurier Ave. E, Ottawa, Ontario, Canada\n",
      "14 Waller St, Ottawa, Ontario, Canada\n",
      "363 Rideau St, Ottawa, Ontario, Canada\n"
     ]
    }
   ],
   "source": [
    "coords = []\n",
    "addrs = [\n",
    "    \"2701 Riverside Dr, Ottawa\",\n",
    "    \"2515 Bank St, Ottawa\",\n",
    "    \"30 Haxby Private, Ottawa\",\n",
    "    \"116 Sai Crescent\",\n",
    "    \"214 Plymouth St, Ottawa\",\n",
    "    \"266 Lorry Greenberg Dr, Ottawa\",\n",
    "    \"800 King Edward Ave, Ottawa\",\n",
    "    \"2210 Bank St, Ottawa\",\n",
    "    \"2161 Thurston Dr, Ottawa\",\n",
    "    \"23 Ella Street, Ottawa\",\n",
    "    \"11 Oblats Avenue, Ottawa\",\n",
    "    \"422 Byron Avenue, Ottawa\",\n",
    "    \"1680 Fisher Avenue, Ottawa\",\n",
    "    \"825 Cahill Drive, Ottawa\",\n",
    "    \"1125 Colonel By Dr, Ottawa\",\n",
    "    \"54 Hawk Crescent, Ottawa\",\n",
    "    \"1380 Prince of Wales Drive, Ottawa\",\n",
    "    \"75 Laurier Ave. E, Ottawa, Ontario, Canada\",\n",
    "    \"14 Waller St, Ottawa, Ontario, Canada\",\n",
    "    \"363 Rideau St, Ottawa, Ontario, Canada\",]\n",
    "for addr in addrs:\n",
    "    print(addr)\n",
    "    coords.append(coords_from_address(addr))\n",
    "    time.sleep(1)\n",
    "\n",
    "\n"
   ]
  },
  {
   "cell_type": "code",
   "execution_count": 34,
   "metadata": {},
   "outputs": [
    {
     "data": {
      "text/plain": [
       "[(45.376031499999996, -75.69003843087424),\n",
       " (45.354957, -75.64506230308237),\n",
       " (45.3672374, -75.6380919),\n",
       " (45.3774855, -75.60436369326396),\n",
       " (45.4031906, -75.70438670883398),\n",
       " (45.364701999999994, -75.63091190873016),\n",
       " (45.4193955, -75.678723),\n",
       " (45.357541999999995, -75.65673606039385),\n",
       " (45.379631, -75.62287994564527),\n",
       " (45.398615500000005, -75.6936179026915),\n",
       " (45.410856, -75.6751423),\n",
       " (45.3917253, -75.7502201),\n",
       " (45.357181499999996, -75.70871728867277),\n",
       " (45.3469677, -75.6669562),\n",
       " (45.3858581, -75.69500411688679),\n",
       " (45.351226499999996, -75.66258092647058),\n",
       " (45.3696165, -75.70294693014705),\n",
       " (45.4243786, -75.6868958),\n",
       " (45.4269994, -75.6887926),\n",
       " (45.4301495, -75.68388699779945)]"
      ]
     },
     "execution_count": 34,
     "metadata": {},
     "output_type": "execute_result"
    }
   ],
   "source": [
    "coords"
   ]
  },
  {
   "cell_type": "code",
   "execution_count": 31,
   "metadata": {},
   "outputs": [
    {
     "data": {
      "text/plain": [
       "(45.4193955, -75.678723)"
      ]
     },
     "execution_count": 31,
     "metadata": {},
     "output_type": "execute_result"
    }
   ],
   "source": [
    "T_mat, D_mat = getGoogleTimeDistance(all_addr)\n"
   ]
  },
  {
   "cell_type": "code",
   "execution_count": 17,
   "metadata": {},
   "outputs": [],
   "source": [
    "filename = \"T_mat\"\n",
    "fileObject = open(filename, 'wb')\n",
    "\n",
    "pickle.dump(T_mat, fileObject)\n",
    "fileObject.close()"
   ]
  },
  {
   "cell_type": "code",
   "execution_count": 19,
   "metadata": {},
   "outputs": [],
   "source": [
    "fileObject2 = open(\"T_mat\", 'wb')\n",
    "fileObject2.close()"
   ]
  },
  {
   "cell_type": "code",
   "execution_count": 29,
   "metadata": {},
   "outputs": [],
   "source": [
    "# with open('T_mat','wb') as f1: \n",
    "#     pickle.dump(T_mat, f1)\n",
    "\n",
    "# with open('T_mat','rb') as f2:\n",
    "#     new_T_mat = pickle.load(f2)\n",
    "    \n",
    "# with open('D_mat','wb') as f1: \n",
    "#     pickle.dump(D_mat, f1)\n",
    "\n",
    "# with open('D_mat','rb') as f2:\n",
    "#     new_D_mat = pickle.load(f2)"
   ]
  },
  {
   "cell_type": "code",
   "execution_count": 27,
   "metadata": {},
   "outputs": [],
   "source": []
  },
  {
   "cell_type": "code",
   "execution_count": null,
   "metadata": {},
   "outputs": [],
   "source": []
  },
  {
   "cell_type": "code",
   "execution_count": 25,
   "metadata": {},
   "outputs": [],
   "source": [
    "\n",
    "def distance_matrix(addresses):\n",
    "    \"\"\"\n",
    "    inputs: list[str] addresses\n",
    "    outputs: dist_mat nparray\n",
    "    description: returns an array that calculates the distance to travel from one address to all other addresses, for all addresses\n",
    "    \"\"\"\n",
    "    pass\n",
    "\n",
    "def time_matrix(addresses):\n",
    "    \"\"\"\n",
    "    inputs: list[str] addresses\n",
    "    outputs: time_mat nparray\n",
    "    description: returns an array that calculates the travel time from one address to all other addresses, for all addresses\n",
    "    \"\"\"\n",
    "    pass\n",
    "\n",
    "def cost_function(start_idx, end_idx, distance_matrix, lookup_tables):\n",
    "    \"\"\"\n",
    "    inputs: int start_idx, int end_idx, nparray distance_matrix, list[str] lookup_tables\n",
    "    outputs: float cost\n",
    "    description: calculates the cost to go from start_idx to end_idx. These idx correspond to distance matrix.\n",
    "    cost also factors in weather and traffic, information could be obtained from a lookup table\n",
    "    lookup_tables is filepath to csv file, which would be read to generate our lookup table\n",
    "    \"\"\"\n",
    "    pass\n",
    "\n",
    "def cost_matrix(distance_matrix, time_matrix, lookup_tables):\n",
    "    \"\"\"\n",
    "    inputs: nparray distance_matrix, nparray time_matrix, str lookup_tables \n",
    "    outputs: nparray cost_mat\n",
    "    description: returns an array that calculates the cost to go from one node to another, for all nodes\n",
    "    \"\"\"\n",
    "    pass\n",
    "\n",
    "def cluster_coords(coordinates, N_trucks):\n",
    "    \"\"\"\n",
    "    inputs: list coordinates, int N_trucks\n",
    "    outputs: list[list] grouped_coords\n",
    "    description: groups the coordinates into n_clusters, where N_trucks = n_clusters\n",
    "    grouped_coords is a list of lists containing coordinates, ex: grouped_coords[0] = list of all coordinates in cluster 0\n",
    "    \"\"\"\n",
    "    pass\n",
    "\n",
    "def sTSP(cost_matrix):\n",
    "    \"\"\"\n",
    "    inputs: nparray cost_matrix\n",
    "    outputs: list[tuple]\n",
    "    description: calculates optimal sequence for a delivery truck\n",
    "    \"\"\"\n",
    "    \n",
    "def plot_route(travel_seq):\n",
    "    \"\"\"\n",
    "    inputs: list[tuple] travel_seq\n",
    "    outputs: none\n",
    "    description: visualizes travel route on folium\n",
    "    \"\"\""
   ]
  },
  {
   "cell_type": "code",
   "execution_count": null,
   "metadata": {},
   "outputs": [],
   "source": []
  }
 ],
 "metadata": {
  "kernelspec": {
   "display_name": "Python 3",
   "language": "python",
   "name": "python3"
  },
  "language_info": {
   "codemirror_mode": {
    "name": "ipython",
    "version": 3
   },
   "file_extension": ".py",
   "mimetype": "text/x-python",
   "name": "python",
   "nbconvert_exporter": "python",
   "pygments_lexer": "ipython3",
   "version": "3.8.3"
  }
 },
 "nbformat": 4,
 "nbformat_minor": 4
}
