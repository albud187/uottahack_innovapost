{
 "cells": [
  {
   "cell_type": "code",
   "execution_count": 59,
   "metadata": {},
   "outputs": [
    {
     "name": "stdout",
     "output_type": "stream",
     "text": [
      "[(168, 15), (493, 72), (22, 299), (466, 75), (360, 263)]\n",
      "24.5\n",
      "24.0\n",
      "23.5\n"
     ]
    },
    {
     "data": {
      "image/png": "[encoded data removed]",
      "text/plain": [
       "<Figure size 432x288 with 1 Axes>"
      ]
     },
     "metadata": {
      "needs_background": "light"
     },
     "output_type": "display_data"
    },
    {
     "name": "stdout",
     "output_type": "stream",
     "text": [
      "[(360, 263), (22, 299), (168, 15), (466, 75), (493, 72)]\n",
      "Final Route Length: 1223.1332160309566\n"
     ]
    }
   ],
   "source": [
    "# -*- coding: utf-8 -*-\n",
    "\"\"\"\n",
    "Created on Thu Sep 22 11:00:17 2022\n",
    "@author: David\n",
    "\"\"\"\n",
    "\n",
    "#######################################################################\n",
    "\n",
    "#Import all of the wonderful things we like and need to manage data and make plots.\n",
    "import numpy as np\n",
    "import matplotlib.pyplot as plt\n",
    "import pandas as pds\n",
    "import pathlib \n",
    "import math\n",
    "import cmath\n",
    "from scipy import stats\n",
    "from scipy.constants import k\n",
    "from copy import deepcopy\n",
    "config0 = [(168, 15), (493, 72), (22, 299), (466, 75), (360, 263)]\n",
    "#######################################################################\n",
    "\n",
    "\n",
    "\n",
    "#Define a function to caluclate the route length:\n",
    "def calc_route_length(config):\n",
    "    \n",
    "    route_length = 0\n",
    "    \n",
    "    #For each city, calculate the distance between it and previous.\n",
    "    for i in range(len(config)):\n",
    "        d = np.sqrt((config[i][0] - config[i-1][0])**2 + (config[i][1] - config[i-1][1])**2)\n",
    "        route_length = route_length + d\n",
    "        \n",
    "    return route_length\n",
    "\n",
    "\n",
    "\n",
    "#Define a function to generate a trial configuration where we swap the order of visiting two cities.\n",
    "def generate_trial_config(config):\n",
    "    \n",
    "    #Make a deep copy so we don't accidentally mess up our config:\n",
    "    trial_config = deepcopy(config)\n",
    "    \n",
    "    #Generate one random city to switch:\n",
    "    first_swap = np.random.randint(0, len(config))\n",
    "    #Assign this value to our second swap:\n",
    "    second_swap = first_swap\n",
    "    \n",
    "    #Generate a second random city to switch, making sure it's different from our first:\n",
    "    while second_swap == first_swap:\n",
    "        second_swap = np.random.randint(0, len(config))\n",
    "    \n",
    "    #Now swap our indices:\n",
    "    hold_value = deepcopy(trial_config[first_swap])\n",
    "    trial_config[first_swap] = trial_config[second_swap]\n",
    "    trial_config[second_swap] = hold_value\n",
    "    \n",
    "    #print(trial_config)\n",
    "    \n",
    "    return trial_config, first_swap, second_swap\n",
    "\n",
    "#Define a function to calculate the change in distance from our configuration change:\n",
    "def calc_distance_change(config, trial_config, first_swap, second_swap):\n",
    "    \n",
    "    #Calculate original distance:\n",
    "    x_i = config[first_swap][0]\n",
    "    y_i = config[first_swap][1]\n",
    "    #Distance between first swap -1:\n",
    "    x_1_min = config[first_swap-1][0]\n",
    "    y_1_min = config[first_swap-1][1]\n",
    "    #Pythagorean theorem:\n",
    "    d_one_min = np.sqrt((x_i - x_1_min)**2 + (y_i - y_1_min)**2)\n",
    "    #Distance between first swap +1, set our bounds on our array of values:\n",
    "    if (first_swap + 1) > (len(config)-1):\n",
    "        swap_max = 0\n",
    "    else:\n",
    "        swap_max = first_swap +1\n",
    "    x_1_max = config[swap_max][0]\n",
    "    y_1_max = config[swap_max][1]\n",
    "    #Pythagoran theorem:\n",
    "    d_one_max = np.sqrt((x_1_max - x_i)**2 + (y_1_max - y_i)**2)\n",
    "    #Distance between second swap -1:\n",
    "    x_j = config[second_swap][0]\n",
    "    y_j = config[second_swap][1]\n",
    "    x_2_min = config[second_swap-1][0]\n",
    "    y_2_min = config[second_swap-1][1]\n",
    "    #Pythagorean theorem:\n",
    "    d_two_min = np.sqrt((x_j - x_2_min)**2 + (y_j - y_2_min)**2)\n",
    "    #Distance between second swap +1, set our bounds on array of values:\n",
    "    if (second_swap + 1) > (len(config)-1):\n",
    "        swap_max = 0\n",
    "    else:\n",
    "        swap_max = second_swap +1\n",
    "    x_2_max = config[swap_max][0]\n",
    "    y_2_max = config[swap_max][1]\n",
    "    #Pythagorean theorem:\n",
    "    d_two_max = np.sqrt((x_2_max - x_j)**2 + (y_2_max - y_j)**2)\n",
    "    \n",
    "    #Now we have our original distance that navigating to these points took:\n",
    "    original_distance = d_one_min + d_one_max + d_two_min + d_two_max\n",
    "    #print(original_distance)\n",
    "    \n",
    "    #Now repeat for the trial configuration...\n",
    "    #Calculate original distance:\n",
    "    x_i = trial_config[first_swap][0]\n",
    "    y_i = trial_config[first_swap][1]\n",
    "    #Distance between first swap -1:\n",
    "    x_1_min = trial_config[first_swap-1][0]\n",
    "    y_1_min = trial_config[first_swap-1][1]\n",
    "    #Pythagorean theorem:\n",
    "    d_one_min = np.sqrt((x_i - x_1_min)**2 + (y_i - y_1_min)**2)\n",
    "    #Distance between first swap +1, set our bounds on our array of values:\n",
    "    if (first_swap + 1) > (len(trial_config)-1):\n",
    "        swap_max = 0\n",
    "    else:\n",
    "        swap_max = first_swap +1\n",
    "    x_1_max = trial_config[swap_max][0]\n",
    "    y_1_max = trial_config[swap_max][1]\n",
    "    #Pythagoran theorem:\n",
    "    d_one_max = np.sqrt((x_1_max - x_i)**2 + (y_1_max - y_i)**2)\n",
    "    #Distance between second swap -1:\n",
    "    x_j = trial_config[second_swap][0]\n",
    "    y_j = trial_config[second_swap][1]\n",
    "    x_2_min = trial_config[second_swap-1][0]\n",
    "    y_2_min = trial_config[second_swap-1][1]\n",
    "    #Pythagorean theorem:\n",
    "    d_two_min = np.sqrt((x_j - x_2_min)**2 + (y_j - y_2_min)**2)\n",
    "    #Distance between second swap +1, set our bounds on array of values:\n",
    "    if (second_swap + 1) > (len(config)-1):\n",
    "        swap_max = 0\n",
    "    else:\n",
    "        swap_max = second_swap +1\n",
    "    x_2_max = trial_config[swap_max][0]\n",
    "    y_2_max = trial_config[swap_max][1]\n",
    "    #Pythagorean theorem:\n",
    "    d_two_max = np.sqrt((x_2_max - x_j)**2 + (y_2_max - y_j)**2)\n",
    "    \n",
    "    #Now we have our new distance that navigating to these points took:\n",
    "    new_distance = d_one_min + d_one_max + d_two_min + d_two_max\n",
    "    #print(new_distance)\n",
    "    \n",
    "    #Calculate our change in distance:\n",
    "    delta_d = new_distance - original_distance\n",
    "    #print(delta_d)\n",
    "    \n",
    "    return delta_d\n",
    "\n",
    "#Define a function to calculate our probability and evaluate it:\n",
    "def evaluate_route_change(delta_d, T):\n",
    "    \n",
    "    #Calculate our probability:\n",
    "    P = math.exp((-1*delta_d)/(T))\n",
    "    #Geneate uniform random variable:\n",
    "    u = np.random.uniform()\n",
    "    #Estimate whether we're keeping this or not:\n",
    "    if u <= P:\n",
    "        accept = True\n",
    "    else:\n",
    "        accept = False\n",
    "    \n",
    "    return accept\n",
    "    \n",
    "#Define a function to minimize our route:\n",
    "def minimize_route(config, T, roc_tol, mean_samples):\n",
    "    \n",
    "    #Create counter for our number of steps, and initial large value for rate of change:\n",
    "    numsteps = 0\n",
    "    roc = 10*roc_tol\n",
    "    \n",
    "    #Find our initial route length - we'll need this later...\n",
    "    route_length = calc_route_length(config)\n",
    "    #Create array to store new route lengths:\n",
    "    route_lengths = []\n",
    "    \n",
    "    #Want rate of change of our config over some number of steps to be small...\n",
    "    while roc > roc_tol:\n",
    "        \n",
    "        #Generate trial configuration and calulate change in distance:\n",
    "        trial_config, first_swap, second_swap = generate_trial_config(config)\n",
    "        delta_d = calc_distance_change(config, trial_config, first_swap, second_swap)\n",
    "        \n",
    "        #Evaluate if we are keeping our new configuration or not...\n",
    "        if delta_d <= 0:\n",
    "            config = deepcopy(trial_config)\n",
    "            route_length = route_length + delta_d\n",
    "            route_lengths.append(route_length)\n",
    "            #Increment numsteps counter:\n",
    "            numsteps = numsteps +1\n",
    "        else:\n",
    "            accept = evaluate_route_change(delta_d, T)\n",
    "            if accept == True:\n",
    "                config = deepcopy(trial_config)\n",
    "                route_length = route_length + delta_d\n",
    "                route_lengths.append(route_length)\n",
    "                #Increment numsteps counter:\n",
    "                numsteps = numsteps +1\n",
    "            else: \n",
    "                pass\n",
    "        \n",
    "        #If we have more than 100 steps, evaluate our mean route length over the last 50 steps,\n",
    "        #compare to the 50 before, and see what our rate of change is.\n",
    "        if numsteps > (mean_samples*2):\n",
    "            new_mean = np.mean(route_lengths[numsteps-mean_samples:])\n",
    "            old_mean = np.mean(route_lengths[numsteps-(mean_samples*2):numsteps-mean_samples])\n",
    "            roc = abs(new_mean - old_mean)\n",
    "            \n",
    "    return config, route_lengths\n",
    "\n",
    "#Define a function to compute our smallest route overall:\n",
    "def travelling_salesman(N, M, initial_T, delta_T, roc_tol_at_T, roc_tol, mean_samples, failsafe):\n",
    "    \n",
    "    #Generate initial configuration:\n",
    "    initial_config = config0\n",
    "    print(initial_config)\n",
    "    #Create equivalent of do-while loop:\n",
    "    while True:\n",
    "        #Do some math with our original route, including calculating route lengths etc.\n",
    "        config = initial_config\n",
    "        old_route_length = calc_route_length(config)\n",
    "        old_route_lengths = []\n",
    "        old_route_lengths.append(old_route_length)\n",
    "        #Create set of unique routes.\n",
    "        unique_routes = set(np.around(old_route_lengths,3))\n",
    "        #Set an initial roc we can evaluate against.\n",
    "        roc = 10*roc_tol\n",
    "        #Set our initial T.\n",
    "        T = initial_T\n",
    "        #Plot our initial configuration:\n",
    "        x_coords = []\n",
    "        y_coords = []\n",
    "                \n",
    "        for i in range(len(config)):\n",
    "            x_coords.append(config[i][0])\n",
    "            y_coords.append(config[i][1])\n",
    "            \n",
    "        \n",
    "        #Run while our roc is greater than our tol, and our temperature is above 0:\n",
    "        while (roc > roc_tol) and (T > 0):\n",
    "            #Minimize route at current T:\n",
    "            config, route_lengths = minimize_route(config, T, roc_tol_at_T, mean_samples)\n",
    "            #If we've come up with a shorter route:\n",
    "            if len(route_lengths) != 0:\n",
    "                #Calculate change in mean:\n",
    "                old_mean = np.mean(old_route_lengths)\n",
    "                new_mean = np.mean(route_lengths)\n",
    "                roc = abs(new_mean - old_mean)\n",
    "                #If our roc is still greater:\n",
    "                if roc > roc_tol:\n",
    "                    #Swap over and update our recent routes...\n",
    "                    old_route_lengths = deepcopy(route_lengths)\n",
    "                    temp_set_routes = set(np.around(old_route_lengths,3))\n",
    "                    unique_routes = unique_routes.union(temp_set_routes)\n",
    "                else:\n",
    "                    pass\n",
    "            else:\n",
    "                pass\n",
    "            \n",
    "            #Increment T downwards...\n",
    "            T = T - delta_T\n",
    "            print(T)\n",
    "            \n",
    "            #If T goes below zero...\n",
    "            if T <= 0:\n",
    "                route_lengths.append(old_route_lengths[-1])\n",
    "            else:\n",
    "                pass\n",
    "        \n",
    "        #Sort our set of routes so we can use these in failsafe.\n",
    "        sorted_routes = sorted(unique_routes)\n",
    "        #print(sorted_routes)\n",
    "            \n",
    "        #If we're not using the failsafe, or if our route is as short as the shortest possible route after hitting roc tolerance, break the loop.\n",
    "        if (failsafe == False) or (round(route_lengths[-1],3) <= (round(sorted_routes[0],3)+0.001)):\n",
    "            break\n",
    "    \n",
    "    #Now we plot our final route...\n",
    "    x_coords = []\n",
    "    y_coords = []\n",
    "    \n",
    "    for i in range(len(config)):\n",
    "        x_coords.append(config[i][0])\n",
    "        y_coords.append(config[i][1])\n",
    "\n",
    "    \n",
    "    final_plot_xs = []\n",
    "    final_plot_xs.append(x_coords[0])\n",
    "    final_plot_xs.append(x_coords[-1])\n",
    "    final_plot_ys = []\n",
    "    final_plot_ys.append(y_coords[0])\n",
    "    final_plot_ys.append(y_coords[-1])\n",
    "        \n",
    "    #Now we plot!\n",
    "    plt.plot(x_coords, y_coords, marker ='o', color = 'tab:blue', linestyle = 'solid', label = 'Route')\n",
    "    plt.plot(final_plot_xs, final_plot_ys, color = 'tab:blue', linestyle = '--', label = 'Path from Final City \\n Back to Start')\n",
    "    plt.xlabel('Lattice Index')\n",
    "    plt.ylabel('Lattice Index')\n",
    "    plt.title('Minimal Travelling Salesman Route \\n For ' + str(N) + ' Cities on an ' + str(M) + ' by ' + str(M) + ' Lattice \\n Current T = ' + str(T) + ' \\n')\n",
    "    plt.legend(loc=(1.05, 0), markerscale=1)\n",
    "    plt.show()\n",
    "\n",
    "    return config, unique_routes, route_lengths[-1]\n",
    "\n",
    "#######################################################################\n",
    "#Main: let's run some functions:\n",
    "\n",
    "#config, unique_routes, final_route_length = travelling_salesman(6, 10, 20, 0.05, 0.001, 0.001, 100, True)\n",
    "#print('Set of Unique Route Lengths: ' + str(unique_routes))\n",
    "#print('Final Route Length: ' + str(final_route_length))\n",
    "\n",
    "config, unique_routes, final_route_length = travelling_salesman(6, 500, 25, 0.5, 0.1, 0.1, 100, False)\n",
    "print(config)\n",
    "print('Final Route Length: ' + str(final_route_length))"
   ]
  },
  {
   "cell_type": "code",
   "execution_count": 15,
   "metadata": {},
   "outputs": [
    {
     "data": {
      "text/plain": [
       "[(466, 75), (493, 72), (168, 15), (22, 299), (162, 433), (360, 263)]"
      ]
     },
     "execution_count": 15,
     "metadata": {},
     "output_type": "execute_result"
    }
   ],
   "source": [
    "config "
   ]
  },
  {
   "cell_type": "code",
   "execution_count": 4,
   "metadata": {},
   "outputs": [],
   "source": []
  },
  {
   "cell_type": "code",
   "execution_count": null,
   "metadata": {},
   "outputs": [],
   "source": []
  },
  {
   "cell_type": "code",
   "execution_count": 30,
   "metadata": {},
   "outputs": [],
   "source": [
    "D_mat = np.zeros((len(config0), len(config0)))\n",
    "for i in range(len(config0)):\n",
    "    for k in range(len(config0)):\n",
    "        if i !=k:\n",
    "            D_mat[i][k] = np.sqrt((config0[i][0]-config0[k][0])**2+(config0[i][1]-config0[k][1])**2)"
   ]
  },
  {
   "cell_type": "code",
   "execution_count": 38,
   "metadata": {},
   "outputs": [
    {
     "data": {
      "text/plain": [
       "[(168, 15), (493, 72), (22, 299), (466, 75), (360, 263)]"
      ]
     },
     "execution_count": 38,
     "metadata": {},
     "output_type": "execute_result"
    }
   ],
   "source": [
    "config0"
   ]
  },
  {
   "cell_type": "code",
   "execution_count": 35,
   "metadata": {},
   "outputs": [],
   "source": [
    "def generate_initial_config(N):\n",
    "    config = []\n",
    "    for i in range(N):\n",
    "        config.append(i)\n",
    "    return config"
   ]
  },
  {
   "cell_type": "code",
   "execution_count": 47,
   "metadata": {},
   "outputs": [],
   "source": [
    "def calc_route_length(config, D_mat):\n",
    "    \n",
    "    route_length = 0\n",
    "    \n",
    "    #For each city, calculate the distance between it and previous.\n",
    "    for i in range(len(config)):\n",
    "        start_idx = config[i-1]\n",
    "        end_idx = config[i]\n",
    "        print(start_idx,end_idx)\n",
    "        d = D_mat[start_idx][end_idx]\n",
    "        route_length = route_length + d\n",
    "        \n",
    "    return route_length\n",
    "\n",
    "def calc_distance_change(config, trial_config, first_swap, second_swap, D_mat):\n",
    "    \n",
    "    #Calculate original distance:\n",
    "    idx_i = config[first_swap]\n",
    "    print(idx_i)\n",
    "    #Distance between first swap -1:\n",
    "    idx_1_min = config[first_swap-1]\n",
    "   \n",
    "    #Pythagorean theorem:\n",
    "    \n",
    "    d_one_min = D_mat[idx_i][idx_1_min]\n",
    "    #Distance between first swap +1, set our bounds on our array of values:\n",
    "    if (first_swap + 1) > (len(config)-1):\n",
    "        swap_max = 0\n",
    "    else:\n",
    "        swap_max = first_swap +1\n",
    "    idx_1_max = config[swap_max]\n",
    "    \n",
    "    #Pythagoran theorem:\n",
    "    d_one_max = D_mat[idx_1_max][idx_i]\n",
    "    #Distance between second swap -1:\n",
    "    idx_j = config[second_swap]\n",
    "    idx_2_min = config[second_swap-1]\n",
    "    \n",
    "    #Pythagorean theorem:\n",
    "    \n",
    "    d_two_min = D_mat[idx_j][idx_2_min]\n",
    "    #Distance between second swap +1, set our bounds on array of values:\n",
    "    if (second_swap + 1) > (len(config)-1):\n",
    "        swap_max = 0\n",
    "    else:\n",
    "        swap_max = second_swap +1\n",
    "        \n",
    "    idx_2_max = config[swap_max]\n",
    "    \n",
    "    #Pythagorean theorem:\n",
    "    d_two_max = D_mat[idx_2_max][idx_j]\n",
    "    \n",
    "    #Now we have our original distance that navigating to these points took:\n",
    "    original_distance = d_one_min + d_one_max + d_two_min + d_two_max\n",
    "    #print(original_distance)\n",
    "    \n",
    "    #Now repeat for the trial configuration...\n",
    "    #Calculate original distance:\n",
    "    idx_i = trial_config[first_swap]\n",
    "    \n",
    "    #Distance between first swap -1:\n",
    "    idx_1_min =  trial_config[first_swap-1]\n",
    "   \n",
    "    #Pythagorean theorem:\n",
    "    d_one_min = D_mat[idx_i][idx_1_min]\n",
    "    #Distance between first swap +1, set our bounds on our array of values:\n",
    "    if (first_swap + 1) > (len(trial_config)-1):\n",
    "        swap_max = 0\n",
    "    else:\n",
    "        swap_max = first_swap +1\n",
    "    idx_1_max = trial_config[swap_max]\n",
    "    \n",
    "    #Pythagoran theorem:\n",
    "    \n",
    "    d_one_max = D_mat[idx_1_max][idx_i]\n",
    "    \n",
    "    #Distance between second swap -1:\n",
    "    idx_j = trial_config[second_swap]\n",
    "    idx_2_min = trial_config[second_swap-1]\n",
    "    \n",
    "    #Pythagorean theorem:\n",
    "   \n",
    "    d_two_min = D_mat[idx_j][idx_2_min]\n",
    "    #Distance between second swap +1, set our bounds on array of values:\n",
    "    if (second_swap + 1) > (len(config)-1):\n",
    "        swap_max = 0\n",
    "    else:\n",
    "        swap_max = second_swap +1\n",
    "    idx_2_max = trial_config[swap_max]\n",
    "    \n",
    "    #Pythagorean theorem:\n",
    "    d_two_max = D_mat[idx_2_max][idx_j]\n",
    "    #Now we have our new distance that navigating to these points took:\n",
    "    new_distance = d_one_min + d_one_max + d_two_min + d_two_max\n",
    "    #print(new_distance)\n",
    "    \n",
    "    #Calculate our change in distance:\n",
    "    delta_d = new_distance - original_distance\n",
    "    #print(delta_d)\n",
    "    \n",
    "    return delta_d\n",
    "\n",
    "calc_distance_change(init_config, trial_config, first_swap, second_swap, D_mat)"
   ]
  },
  {
   "cell_type": "code",
   "execution_count": null,
   "metadata": {},
   "outputs": [],
   "source": []
  },
  {
   "cell_type": "code",
   "execution_count": null,
   "metadata": {},
   "outputs": [],
   "source": []
  },
  {
   "cell_type": "code",
   "execution_count": null,
   "metadata": {},
   "outputs": [],
   "source": []
  },
  {
   "cell_type": "code",
   "execution_count": 41,
   "metadata": {},
   "outputs": [],
   "source": [
    "init_config = generate_initial_config(5)"
   ]
  },
  {
   "cell_type": "code",
   "execution_count": 48,
   "metadata": {},
   "outputs": [
    {
     "name": "stdout",
     "output_type": "stream",
     "text": [
      "4 0\n",
      "0 1\n",
      "1 2\n",
      "2 3\n",
      "3 4\n"
     ]
    },
    {
     "data": {
      "text/plain": [
       "1879.574044428653"
      ]
     },
     "execution_count": 48,
     "metadata": {},
     "output_type": "execute_result"
    }
   ],
   "source": [
    "calc_route_length(init_config, D_mat)"
   ]
  },
  {
   "cell_type": "code",
   "execution_count": 57,
   "metadata": {},
   "outputs": [],
   "source": []
  },
  {
   "cell_type": "code",
   "execution_count": 44,
   "metadata": {},
   "outputs": [
    {
     "data": {
      "text/plain": [
       "array([[  0.        , 329.96060371, 319.33054974, 303.98026252,\n",
       "        313.63673254],\n",
       "       [329.96060371,   0.        , 522.84797026,  27.16615541,\n",
       "        232.7444951 ],\n",
       "       [319.33054974, 522.84797026,   0.        , 497.30473555,\n",
       "        339.91175325],\n",
       "       [303.98026252,  27.16615541, 497.30473555,   0.        ,\n",
       "        215.82400237],\n",
       "       [313.63673254, 232.7444951 , 339.91175325, 215.82400237,\n",
       "          0.        ]])"
      ]
     },
     "execution_count": 44,
     "metadata": {},
     "output_type": "execute_result"
    }
   ],
   "source": [
    "D_mat"
   ]
  },
  {
   "cell_type": "code",
   "execution_count": 56,
   "metadata": {},
   "outputs": [
    {
     "data": {
      "text/plain": [
       "([0, 1, 3, 2, 4], 3, 2)"
      ]
     },
     "execution_count": 56,
     "metadata": {},
     "output_type": "execute_result"
    }
   ],
   "source": []
  },
  {
   "cell_type": "code",
   "execution_count": null,
   "metadata": {},
   "outputs": [],
   "source": [
    "config"
   ]
  },
  {
   "cell_type": "code",
   "execution_count": 45,
   "metadata": {},
   "outputs": [
    {
     "data": {
      "text/plain": [
       "[0, 1, 2, 3, 4]"
      ]
     },
     "execution_count": 45,
     "metadata": {},
     "output_type": "execute_result"
    }
   ],
   "source": [
    "init_config"
   ]
  },
  {
   "cell_type": "code",
   "execution_count": 61,
   "metadata": {},
   "outputs": [],
   "source": [
    "trial_config, first_swap, second_swap = generate_trial_config(init_config)\n"
   ]
  },
  {
   "cell_type": "code",
   "execution_count": 62,
   "metadata": {},
   "outputs": [
    {
     "ename": "IndexError",
     "evalue": "index 22 is out of bounds for axis 0 with size 5",
     "output_type": "error",
     "traceback": [
      "\u001b[1;31m---------------------------------------------------------------------------\u001b[0m",
      "\u001b[1;31mIndexError\u001b[0m                                Traceback (most recent call last)",
      "\u001b[1;32m<ipython-input-62-fd2711a6fa07>\u001b[0m in \u001b[0;36m<module>\u001b[1;34m\u001b[0m\n\u001b[1;32m----> 1\u001b[1;33m \u001b[0mcalc_distance_change\u001b[0m\u001b[1;33m(\u001b[0m\u001b[0mconfig\u001b[0m\u001b[1;33m,\u001b[0m \u001b[0mtrial_config\u001b[0m\u001b[1;33m,\u001b[0m \u001b[0mfirst_swap\u001b[0m\u001b[1;33m,\u001b[0m \u001b[0msecond_swap\u001b[0m\u001b[1;33m,\u001b[0m \u001b[0mD_mat\u001b[0m\u001b[1;33m)\u001b[0m\u001b[1;33m\u001b[0m\u001b[1;33m\u001b[0m\u001b[0m\n\u001b[0m",
      "\u001b[1;32m<ipython-input-60-3c9486bfb27a>\u001b[0m in \u001b[0;36mcalc_distance_change\u001b[1;34m(config, trial_config, first_swap, second_swap, D_mat)\u001b[0m\n\u001b[0;32m      9\u001b[0m     \u001b[1;31m#Pythagorean theorem:\u001b[0m\u001b[1;33m\u001b[0m\u001b[1;33m\u001b[0m\u001b[1;33m\u001b[0m\u001b[0m\n\u001b[0;32m     10\u001b[0m \u001b[1;33m\u001b[0m\u001b[0m\n\u001b[1;32m---> 11\u001b[1;33m     \u001b[0md_one_min\u001b[0m \u001b[1;33m=\u001b[0m \u001b[0mD_mat\u001b[0m\u001b[1;33m[\u001b[0m\u001b[0midx_i\u001b[0m\u001b[1;33m]\u001b[0m\u001b[1;33m[\u001b[0m\u001b[0midx_1_min\u001b[0m\u001b[1;33m]\u001b[0m\u001b[1;33m\u001b[0m\u001b[1;33m\u001b[0m\u001b[0m\n\u001b[0m\u001b[0;32m     12\u001b[0m     \u001b[1;31m#Distance between first swap +1, set our bounds on our array of values:\u001b[0m\u001b[1;33m\u001b[0m\u001b[1;33m\u001b[0m\u001b[1;33m\u001b[0m\u001b[0m\n\u001b[0;32m     13\u001b[0m     \u001b[1;32mif\u001b[0m \u001b[1;33m(\u001b[0m\u001b[0mfirst_swap\u001b[0m \u001b[1;33m+\u001b[0m \u001b[1;36m1\u001b[0m\u001b[1;33m)\u001b[0m \u001b[1;33m>\u001b[0m \u001b[1;33m(\u001b[0m\u001b[0mlen\u001b[0m\u001b[1;33m(\u001b[0m\u001b[0mconfig\u001b[0m\u001b[1;33m)\u001b[0m\u001b[1;33m-\u001b[0m\u001b[1;36m1\u001b[0m\u001b[1;33m)\u001b[0m\u001b[1;33m:\u001b[0m\u001b[1;33m\u001b[0m\u001b[1;33m\u001b[0m\u001b[0m\n",
      "\u001b[1;31mIndexError\u001b[0m: index 22 is out of bounds for axis 0 with size 5"
     ]
    }
   ],
   "source": []
  },
  {
   "cell_type": "code",
   "execution_count": 66,
   "metadata": {},
   "outputs": [
    {
     "name": "stdout",
     "output_type": "stream",
     "text": [
      "1\n"
     ]
    },
    {
     "data": {
      "text/plain": [
       "-284.4096579521265"
      ]
     },
     "execution_count": 66,
     "metadata": {},
     "output_type": "execute_result"
    }
   ],
   "source": [
    "def minimize_route(config, T, roc_tol, mean_samples):\n",
    "    \n",
    "    #Create counter for our number of steps, and initial large value for rate of change:\n",
    "    numsteps = 0\n",
    "    roc = 10*roc_tol\n",
    "    \n",
    "    #Find our initial route length - we'll need this later...\n",
    "    route_length = calc_route_length(config)\n",
    "    #Create array to store new route lengths:\n",
    "    route_lengths = []\n",
    "    \n",
    "    #Want rate of change of our config over some number of steps to be small...\n",
    "    while roc > roc_tol:\n",
    "        \n",
    "        #Generate trial configuration and calulate change in distance:\n",
    "        trial_config, first_swap, second_swap = generate_trial_config(config)\n",
    "        delta_d = calc_distance_change(config, trial_config, first_swap, second_swap)\n",
    "        \n",
    "        #Evaluate if we are keeping our new configuration or not...\n",
    "        if delta_d <= 0:\n",
    "            config = deepcopy(trial_config)\n",
    "            route_length = route_length + delta_d\n",
    "            route_lengths.append(route_length)\n",
    "            #Increment numsteps counter:\n",
    "            numsteps = numsteps +1\n",
    "        else:\n",
    "            accept = evaluate_route_change(delta_d, T)\n",
    "            if accept == True:\n",
    "                config = deepcopy(trial_config)\n",
    "                route_length = route_length + delta_d\n",
    "                route_lengths.append(route_length)\n",
    "                #Increment numsteps counter:\n",
    "                numsteps = numsteps +1\n",
    "            else: \n",
    "                pass\n",
    "        \n",
    "        #If we have more than 100 steps, evaluate our mean route length over the last 50 steps,\n",
    "        #compare to the 50 before, and see what our rate of change is.\n",
    "        if numsteps > (mean_samples*2):\n",
    "            new_mean = np.mean(route_lengths[numsteps-mean_samples:])\n",
    "            old_mean = np.mean(route_lengths[numsteps-(mean_samples*2):numsteps-mean_samples])\n",
    "            roc = abs(new_mean - old_mean)\n",
    "            \n",
    "    return config, route_lengths"
   ]
  },
  {
   "cell_type": "code",
   "execution_count": null,
   "metadata": {},
   "outputs": [],
   "source": []
  }
 ],
 "metadata": {
  "kernelspec": {
   "display_name": "Python 3",
   "language": "python",
   "name": "python3"
  },
  "language_info": {
   "codemirror_mode": {
    "name": "ipython",
    "version": 3
   },
   "file_extension": ".py",
   "mimetype": "text/x-python",
   "name": "python",
   "nbconvert_exporter": "python",
   "pygments_lexer": "ipython3",
   "version": "3.8.3"
  }
 },
 "nbformat": 4,
 "nbformat_minor": 4
}
