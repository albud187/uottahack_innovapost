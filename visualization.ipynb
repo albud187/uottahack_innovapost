{
 "cells": [
  {
   "cell_type": "code",
   "execution_count": 26,
   "metadata": {},
   "outputs": [
    {
     "name": "stdout",
     "output_type": "stream",
     "text": [
      "[(45.354957, -75.64506230308237), (45.3672374, -75.6380919), (45.3774855, -75.60436369326396), (45.4031906, -75.70438670883398), (45.364702, -75.63091190873016), (45.4193955, -75.678723), (45.357542, -75.65673606039385), (45.379631, -75.62287994564527), (45.398615500000005, -75.6936179026915), (45.410856, -75.6751423), (45.3917253, -75.7502201), (45.3571815, -75.70871728867277), (45.3469677, -75.6669562), (45.3858581, -75.69500411688679), (45.398615500000005, -75.6936179026915), (45.410856, -75.6751423), (45.3917253, -75.7502201), (45.3571815, -75.70871728867277), (45.3469677, -75.6669562), (45.3858581, -75.69500411688679), (45.3512265, -75.66258092647058), (45.3696165, -75.70294693014705), (45.4243786, -75.6868958), (45.4269994, -75.6887926), (45.4301495, -75.68388699779945), (45.3760315, -75.69003843087424)]\n"
     ]
    }
   ],
   "source": [
    "import folium\n",
    "import pandas as pd\n",
    "\n",
    "# function reads a file and adds the contents as tuples (containing coordinates) to a list\n",
    "def read_file(fileName):\n",
    "\n",
    "    coords = []\n",
    "    for line in pd.read_csv(fileName, encoding='utf-8', header=None, chunksize=1):\n",
    "        coords.append((line.iloc[0,0], line.iloc[0,1]))\n",
    "    \n",
    "    return coords\n",
    "\n",
    "# function takes in a list of any size (at least two items) containing gps coordinates as tuples\n",
    "# order: latitude, longitude\n",
    "def generate_map(coorList):\n",
    "\n",
    "    # initialize map from starting point (first tuple in list)\n",
    "    m = folium.Map(location=[coorList[0][0], coorList[0][1]])\n",
    "\n",
    "    points = []\n",
    "    # create a marker for every other point in list\n",
    "    for i in range(len(coorList)):\n",
    "        points.append([coorList[i][0], coorList[i][1]])\n",
    "        folium.Marker([coorList[i][0], coorList[i][1]],\n",
    "                      icon=folium.Icon(color='blue', icon_color='white')\n",
    "                      ).add_to(m)\n",
    "        \n",
    "    # add a line to connect the points\n",
    "    folium.PolyLine(points, color='blue'\n",
    "                    ).add_to(m)\n",
    "\n",
    "    return m\n",
    "\n",
    "# read_file('./coords.csv')\n",
    "print(read_file('./coords.csv'))\n",
    "\n",
    "coords = [(45.422363, -75.681972), (45.42572227810338, -\n",
    "             75.67038726640584), (45.390976, -75.685841)]\n",
    "# m = generate_map(coords)\n",
    "# m\n",
    "\n",
    "# m = folium.Map(location=[45.422363, -75.681972], zoom_start=13)\n",
    "# m\n"
   ]
  }
 ],
 "metadata": {
  "kernelspec": {
   "display_name": "base",
   "language": "python",
   "name": "python3"
  },
  "language_info": {
   "codemirror_mode": {
    "name": "ipython",
    "version": 3
   },
   "file_extension": ".py",
   "mimetype": "text/x-python",
   "name": "python",
   "nbconvert_exporter": "python",
   "pygments_lexer": "ipython3",
   "version": "3.9.13"
  },
  "orig_nbformat": 4,
  "vscode": {
   "interpreter": {
    "hash": "ffcc676781dc20976242fd4614c4c0f92a12fd6b5e4f50148b3ae17dd0852a0e"
   }
  }
 },
 "nbformat": 4,
 "nbformat_minor": 2
}
