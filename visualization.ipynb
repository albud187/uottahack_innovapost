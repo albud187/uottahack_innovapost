{
 "cells": [
  {
   "cell_type": "code",
   "execution_count": null,
   "metadata": {},
   "outputs": [],
   "source": [
    "import folium\n",
    "from folium.features import DivIcon\n",
    "import pandas as pd\n",
    "\n",
    "# function reads a file and adds the contents as tuples (containing coordinates) to a list, returns that list\n",
    "def read_file(fileName):\n",
    "\n",
    "    coords = []\n",
    "    for line in pd.read_csv(fileName, encoding='utf-8', header=None, chunksize=1):\n",
    "        coords.append((line.iloc[0,0], line.iloc[0,1]))\n",
    "    \n",
    "    return coords\n",
    "\n",
    "# function creates and returns a numbered icon for the folium marker\n",
    "def create_divcon(num):\n",
    "\n",
    "    icon = DivIcon(icon_size=(150,36), \n",
    "                   icon_anchor=(14,40),\n",
    "                   html='<div style=\"font-size: 18pt; color : black\">' + '{:01d}'.format(num+1) + '</div>')  # styling for icon\n",
    "    \n",
    "    return icon\n",
    "\n",
    "# function takes in a list of any size (at least two items) containing gps coordinates as tuples\n",
    "# order: latitude, longitude\n",
    "def generate_map(coorList):\n",
    "\n",
    "    # initialize map from starting point (first tuple in list)\n",
    "    m = folium.Map(location=[coorList[0][0], coorList[0][1]])\n",
    "\n",
    "    points = []\n",
    "    # create a marker for every other point in list\n",
    "    for i in range(len(coorList)):\n",
    "        points.append([coorList[i][0], coorList[i][1]])\n",
    "        folium.Marker([coorList[i][0], coorList[i][1]],\n",
    "                      icon=create_divcon(i)\n",
    "                      ).add_to(m)\n",
    "        \n",
    "    # add a line to connect the points\n",
    "    folium.PolyLine(points, color='blue'\n",
    "                    ).add_to(m)\n",
    "\n",
    "    return m\n",
    "\n",
    "coords = read_file('./coords.csv')\n",
    "m = generate_map(coords)\n",
    "m\n"
   ]
  }
 ],
 "metadata": {
  "kernelspec": {
   "display_name": "base",
   "language": "python",
   "name": "python3"
  },
  "language_info": {
   "codemirror_mode": {
    "name": "ipython",
    "version": 3
   },
   "file_extension": ".py",
   "mimetype": "text/x-python",
   "name": "python",
   "nbconvert_exporter": "python",
   "pygments_lexer": "ipython3",
   "version": "3.9.13"
  },
  "orig_nbformat": 4,
  "vscode": {
   "interpreter": {
    "hash": "ffcc676781dc20976242fd4614c4c0f92a12fd6b5e4f50148b3ae17dd0852a0e"
   }
  }
 },
 "nbformat": 4,
 "nbformat_minor": 2
}
