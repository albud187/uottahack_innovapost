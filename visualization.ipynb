{
 "cells": [
  {
   "cell_type": "code",
<<<<<<< Updated upstream
   "execution_count": 8,
=======
   "execution_count": 7,
>>>>>>> Stashed changes
   "metadata": {},
   "outputs": [
    {
     "data": {
      "text/html": [
       "<div style=\"width:100%;\"><div style=\"position:relative;width:100%;height:0;padding-bottom:60%;\"><span style=\"color:#565656\">Make this Notebook Trusted to load map: File -> Trust Notebook</span><iframe srcdoc=\"&lt;!DOCTYPE html&gt;\n",
       "&lt;html&gt;\n",
       "&lt;head&gt;\n",
       "    \n",
       "    &lt;meta http-equiv=&quot;content-type&quot; content=&quot;text/html; charset=UTF-8&quot; /&gt;\n",
       "    \n",
       "        &lt;script&gt;\n",
       "            L_NO_TOUCH = false;\n",
       "            L_DISABLE_3D = false;\n",
       "        &lt;/script&gt;\n",
       "    \n",
       "    &lt;style&gt;html, body {width: 100%;height: 100%;margin: 0;padding: 0;}&lt;/style&gt;\n",
       "    &lt;style&gt;#map {position:absolute;top:0;bottom:0;right:0;left:0;}&lt;/style&gt;\n",
       "    &lt;script src=&quot;https://cdn.jsdelivr.net/npm/leaflet@1.9.3/dist/leaflet.js&quot;&gt;&lt;/script&gt;\n",
       "    &lt;script src=&quot;https://code.jquery.com/jquery-1.12.4.min.js&quot;&gt;&lt;/script&gt;\n",
       "    &lt;script src=&quot;https://cdn.jsdelivr.net/npm/bootstrap@5.2.2/dist/js/bootstrap.bundle.min.js&quot;&gt;&lt;/script&gt;\n",
       "    &lt;script src=&quot;https://cdnjs.cloudflare.com/ajax/libs/Leaflet.awesome-markers/2.0.2/leaflet.awesome-markers.js&quot;&gt;&lt;/script&gt;\n",
       "    &lt;link rel=&quot;stylesheet&quot; href=&quot;https://cdn.jsdelivr.net/npm/leaflet@1.9.3/dist/leaflet.css&quot;/&gt;\n",
       "    &lt;link rel=&quot;stylesheet&quot; href=&quot;https://cdn.jsdelivr.net/npm/bootstrap@5.2.2/dist/css/bootstrap.min.css&quot;/&gt;\n",
       "    &lt;link rel=&quot;stylesheet&quot; href=&quot;https://netdna.bootstrapcdn.com/bootstrap/3.0.0/css/bootstrap.min.css&quot;/&gt;\n",
       "    &lt;link rel=&quot;stylesheet&quot; href=&quot;https://cdn.jsdelivr.net/npm/@fortawesome/fontawesome-free@6.2.0/css/all.min.css&quot;/&gt;\n",
       "    &lt;link rel=&quot;stylesheet&quot; href=&quot;https://cdnjs.cloudflare.com/ajax/libs/Leaflet.awesome-markers/2.0.2/leaflet.awesome-markers.css&quot;/&gt;\n",
       "    &lt;link rel=&quot;stylesheet&quot; href=&quot;https://cdn.jsdelivr.net/gh/python-visualization/folium/folium/templates/leaflet.awesome.rotate.min.css&quot;/&gt;\n",
       "    \n",
       "            &lt;meta name=&quot;viewport&quot; content=&quot;width=device-width,\n",
       "                initial-scale=1.0, maximum-scale=1.0, user-scalable=no&quot; /&gt;\n",
       "            &lt;style&gt;\n",
<<<<<<< Updated upstream
       "                #map_1d2f97332c8d7daeed9df6f245f8cb46 {\n",
=======
       "                #map_18ff45563fa79b40580790914490f3b0 {\n",
>>>>>>> Stashed changes
       "                    position: relative;\n",
       "                    width: 100.0%;\n",
       "                    height: 100.0%;\n",
       "                    left: 0.0%;\n",
       "                    top: 0.0%;\n",
       "                }\n",
       "                .leaflet-container { font-size: 1rem; }\n",
       "            &lt;/style&gt;\n",
       "        \n",
       "&lt;/head&gt;\n",
       "&lt;body&gt;\n",
       "    \n",
       "    \n",
<<<<<<< Updated upstream
       "            &lt;div class=&quot;folium-map&quot; id=&quot;map_1d2f97332c8d7daeed9df6f245f8cb46&quot; &gt;&lt;/div&gt;\n",
=======
       "            &lt;div class=&quot;folium-map&quot; id=&quot;map_18ff45563fa79b40580790914490f3b0&quot; &gt;&lt;/div&gt;\n",
>>>>>>> Stashed changes
       "        \n",
       "&lt;/body&gt;\n",
       "&lt;script&gt;\n",
       "    \n",
       "    \n",
<<<<<<< Updated upstream
       "            var map_1d2f97332c8d7daeed9df6f245f8cb46 = L.map(\n",
       "                &quot;map_1d2f97332c8d7daeed9df6f245f8cb46&quot;,\n",
=======
       "            var map_18ff45563fa79b40580790914490f3b0 = L.map(\n",
       "                &quot;map_18ff45563fa79b40580790914490f3b0&quot;,\n",
>>>>>>> Stashed changes
       "                {\n",
       "                    center: [45.422363, -75.681972],\n",
       "                    crs: L.CRS.EPSG3857,\n",
       "                    zoom: 10,\n",
       "                    zoomControl: true,\n",
       "                    preferCanvas: false,\n",
       "                }\n",
       "            );\n",
       "\n",
       "            \n",
       "\n",
       "        \n",
       "    \n",
<<<<<<< Updated upstream
       "            var tile_layer_7d3c3274d16e1c1de433ed38ee9cc17b = L.tileLayer(\n",
       "                &quot;https://{s}.tile.openstreetmap.org/{z}/{x}/{y}.png&quot;,\n",
       "                {&quot;attribution&quot;: &quot;Data by \\u0026copy; \\u003ca target=\\&quot;_blank\\&quot; href=\\&quot;http://openstreetmap.org\\&quot;\\u003eOpenStreetMap\\u003c/a\\u003e, under \\u003ca target=\\&quot;_blank\\&quot; href=\\&quot;http://www.openstreetmap.org/copyright\\&quot;\\u003eODbL\\u003c/a\\u003e.&quot;, &quot;detectRetina&quot;: false, &quot;maxNativeZoom&quot;: 18, &quot;maxZoom&quot;: 18, &quot;minZoom&quot;: 0, &quot;noWrap&quot;: false, &quot;opacity&quot;: 1, &quot;subdomains&quot;: &quot;abc&quot;, &quot;tms&quot;: false}\n",
       "            ).addTo(map_1d2f97332c8d7daeed9df6f245f8cb46);\n",
       "        \n",
       "    \n",
       "            var marker_c4775ebf961c69e2ed5fb1fd365416ad = L.marker(\n",
       "                [45.42572227810338, -75.67038726640584],\n",
       "                {}\n",
       "            ).addTo(map_1d2f97332c8d7daeed9df6f245f8cb46);\n",
       "        \n",
       "    \n",
       "            var icon_d339905feebcc4f91c8522dc711ca1f9 = L.AwesomeMarkers.icon(\n",
       "                {&quot;extraClasses&quot;: &quot;fa-rotate-0&quot;, &quot;icon&quot;: &quot;info-sign&quot;, &quot;iconColor&quot;: &quot;white&quot;, &quot;markerColor&quot;: &quot;blue&quot;, &quot;prefix&quot;: &quot;glyphicon&quot;}\n",
       "            );\n",
       "            marker_c4775ebf961c69e2ed5fb1fd365416ad.setIcon(icon_d339905feebcc4f91c8522dc711ca1f9);\n",
       "        \n",
       "    \n",
       "        var popup_ca1389798747cc4593856df118de6ff4 = L.popup({&quot;maxWidth&quot;: &quot;100%&quot;});\n",
       "\n",
       "        \n",
       "            \n",
       "                var html_efc99c2c96f12f888dcc5d55071e5e84 = $(`&lt;div id=&quot;html_efc99c2c96f12f888dcc5d55071e5e84&quot; style=&quot;width: 100.0%; height: 100.0%;&quot;&gt;1&lt;/div&gt;`)[0];\n",
       "                popup_ca1389798747cc4593856df118de6ff4.setContent(html_efc99c2c96f12f888dcc5d55071e5e84);\n",
       "            \n",
       "        \n",
       "\n",
       "        marker_c4775ebf961c69e2ed5fb1fd365416ad.bindPopup(popup_ca1389798747cc4593856df118de6ff4)\n",
       "        ;\n",
       "\n",
       "        \n",
       "    \n",
       "    \n",
       "            var marker_553dc70cb7647800efaf5d07117cb364 = L.marker(\n",
       "                [45.390976, -75.685841],\n",
       "                {}\n",
       "            ).addTo(map_1d2f97332c8d7daeed9df6f245f8cb46);\n",
       "        \n",
       "    \n",
       "            var icon_c8e2802af9c84ee144caa87dea0d75b2 = L.AwesomeMarkers.icon(\n",
       "                {&quot;extraClasses&quot;: &quot;fa-rotate-0&quot;, &quot;icon&quot;: &quot;info-sign&quot;, &quot;iconColor&quot;: &quot;white&quot;, &quot;markerColor&quot;: &quot;blue&quot;, &quot;prefix&quot;: &quot;glyphicon&quot;}\n",
       "            );\n",
       "            marker_553dc70cb7647800efaf5d07117cb364.setIcon(icon_c8e2802af9c84ee144caa87dea0d75b2);\n",
       "        \n",
       "    \n",
       "        var popup_948461838b53f78316b51493cf3c49cf = L.popup({&quot;maxWidth&quot;: &quot;100%&quot;});\n",
       "\n",
       "        \n",
       "            \n",
       "                var html_08fb245b187cc7e7dd3d000bc0956685 = $(`&lt;div id=&quot;html_08fb245b187cc7e7dd3d000bc0956685&quot; style=&quot;width: 100.0%; height: 100.0%;&quot;&gt;2&lt;/div&gt;`)[0];\n",
       "                popup_948461838b53f78316b51493cf3c49cf.setContent(html_08fb245b187cc7e7dd3d000bc0956685);\n",
       "            \n",
       "        \n",
       "\n",
       "        marker_553dc70cb7647800efaf5d07117cb364.bindPopup(popup_948461838b53f78316b51493cf3c49cf)\n",
       "        ;\n",
       "\n",
       "        \n",
       "    \n",
       "    \n",
       "            var poly_line_2a11587a7a8857ea6b2a5c630566965e = L.polyline(\n",
       "                [[45.42572227810338, -75.67038726640584], [45.390976, -75.685841]],\n",
       "                {&quot;bubblingMouseEvents&quot;: true, &quot;color&quot;: &quot;#3388ff&quot;, &quot;dashArray&quot;: null, &quot;dashOffset&quot;: null, &quot;fill&quot;: false, &quot;fillColor&quot;: &quot;#3388ff&quot;, &quot;fillOpacity&quot;: 0.2, &quot;fillRule&quot;: &quot;evenodd&quot;, &quot;lineCap&quot;: &quot;round&quot;, &quot;lineJoin&quot;: &quot;round&quot;, &quot;noClip&quot;: false, &quot;opacity&quot;: 1.0, &quot;smoothFactor&quot;: 1.0, &quot;stroke&quot;: true, &quot;weight&quot;: 3}\n",
       "            ).addTo(map_1d2f97332c8d7daeed9df6f245f8cb46);\n",
=======
       "            var tile_layer_24f747e09d95c81cf6546098fc4f92d2 = L.tileLayer(\n",
       "                &quot;https://{s}.tile.openstreetmap.org/{z}/{x}/{y}.png&quot;,\n",
       "                {&quot;attribution&quot;: &quot;Data by \\u0026copy; \\u003ca target=\\&quot;_blank\\&quot; href=\\&quot;http://openstreetmap.org\\&quot;\\u003eOpenStreetMap\\u003c/a\\u003e, under \\u003ca target=\\&quot;_blank\\&quot; href=\\&quot;http://www.openstreetmap.org/copyright\\&quot;\\u003eODbL\\u003c/a\\u003e.&quot;, &quot;detectRetina&quot;: false, &quot;maxNativeZoom&quot;: 18, &quot;maxZoom&quot;: 18, &quot;minZoom&quot;: 0, &quot;noWrap&quot;: false, &quot;opacity&quot;: 1, &quot;subdomains&quot;: &quot;abc&quot;, &quot;tms&quot;: false}\n",
       "            ).addTo(map_18ff45563fa79b40580790914490f3b0);\n",
       "        \n",
       "    \n",
       "            var marker_4e66619a5a592ef96a38ee7407cad63e = L.marker(\n",
       "                [45.42572227810338, -75.67038726640584],\n",
       "                {}\n",
       "            ).addTo(map_18ff45563fa79b40580790914490f3b0);\n",
       "        \n",
       "    \n",
       "            var icon_b4a57343555ed2b0ba300c3f1a98ea64 = L.AwesomeMarkers.icon(\n",
       "                {&quot;extraClasses&quot;: &quot;fa-rotate-0&quot;, &quot;icon&quot;: &quot;info-sign&quot;, &quot;iconColor&quot;: &quot;white&quot;, &quot;markerColor&quot;: &quot;blue&quot;, &quot;prefix&quot;: &quot;glyphicon&quot;}\n",
       "            );\n",
       "            marker_4e66619a5a592ef96a38ee7407cad63e.setIcon(icon_b4a57343555ed2b0ba300c3f1a98ea64);\n",
       "        \n",
       "    \n",
       "            var marker_e390335d5ccda1c9f969a21b41bce4e3 = L.marker(\n",
       "                [45.390976, -75.685841],\n",
       "                {}\n",
       "            ).addTo(map_18ff45563fa79b40580790914490f3b0);\n",
       "        \n",
       "    \n",
       "            var icon_24f766042f701d8c34f7783cc921e10b = L.AwesomeMarkers.icon(\n",
       "                {&quot;extraClasses&quot;: &quot;fa-rotate-0&quot;, &quot;icon&quot;: &quot;info-sign&quot;, &quot;iconColor&quot;: &quot;white&quot;, &quot;markerColor&quot;: &quot;blue&quot;, &quot;prefix&quot;: &quot;glyphicon&quot;}\n",
       "            );\n",
       "            marker_e390335d5ccda1c9f969a21b41bce4e3.setIcon(icon_24f766042f701d8c34f7783cc921e10b);\n",
       "        \n",
       "    \n",
       "            var poly_line_2470a8efa13decd6b876e9bdaf296bb5 = L.polyline(\n",
       "                [[45.42572227810338, -75.67038726640584], [45.390976, -75.685841]],\n",
       "                {&quot;bubblingMouseEvents&quot;: true, &quot;color&quot;: &quot;blue&quot;, &quot;dashArray&quot;: null, &quot;dashOffset&quot;: null, &quot;fill&quot;: false, &quot;fillColor&quot;: &quot;blue&quot;, &quot;fillOpacity&quot;: 0.2, &quot;fillRule&quot;: &quot;evenodd&quot;, &quot;lineCap&quot;: &quot;round&quot;, &quot;lineJoin&quot;: &quot;round&quot;, &quot;noClip&quot;: false, &quot;opacity&quot;: 1.0, &quot;smoothFactor&quot;: 1.0, &quot;stroke&quot;: true, &quot;weight&quot;: 3}\n",
       "            ).addTo(map_18ff45563fa79b40580790914490f3b0);\n",
>>>>>>> Stashed changes
       "        \n",
       "&lt;/script&gt;\n",
       "&lt;/html&gt;\" style=\"position:absolute;width:100%;height:100%;left:0;top:0;border:none !important;\" allowfullscreen webkitallowfullscreen mozallowfullscreen></iframe></div></div>"
      ],
      "text/plain": [
<<<<<<< Updated upstream
       "<folium.folium.Map at 0x15729af3e20>"
      ]
     },
     "execution_count": 8,
=======
       "<folium.folium.Map at 0x7f8979f292b0>"
      ]
     },
     "execution_count": 7,
>>>>>>> Stashed changes
     "metadata": {},
     "output_type": "execute_result"
    }
   ],
   "source": [
    "import folium\n",
    "\n",
    "# function takes in a list of any size (at least two items) containing gps coordinates as tuples\n",
    "def generate_map(coorList):\n",
    "\n",
    "    # initialize map from starting point (first tuple in list)\n",
    "    m = folium.Map(location=[coorList[0][0], coorList[0][1]])\n",
    "\n",
    "    points = []\n",
    "    # create a marker for every other point in list\n",
    "    for i in range(len(coorList)):\n",
    "        points.append([coorList[i][0], coorList[i][1]])\n",
    "        folium.Marker([coorList[i][0], coorList[i][1]],\n",
    "                      icon=folium.Icon(color='blue', icon_color='white')\n",
    "                      ).add_child(folium.Popup(f'{i+1}')).add_to(m)\n",
    "        \n",
    "    # add a line to connect the points\n",
<<<<<<< Updated upstream
    "    # TODO: This just draws a straight line, we need something that can plot routes. Not sure if folium does this, googled something called geopy, might be good. - Wesley\n",
    "    folium.PolyLine(coorList[1:]).add_to(m)\n",
    "    return m\n",
=======
    "    folium.PolyLine(points, color='blue'\n",
    "                    ).add_to(m)\n",
>>>>>>> Stashed changes
    "\n",
    "    return m\n",
    "\n",
<<<<<<< Updated upstream
    "outMap = generate_map([(45.422363, -75.681972), (45.42572227810338, -\n",
    "             75.67038726640584), (45.390976, -75.685841)])\n",
=======
    "coords = [(45.422363, -75.681972), (45.42572227810338, -\n",
    "             75.67038726640584), (45.390976, -75.685841)]\n",
    "m = generate_map(coords)\n",
    "m\n",
>>>>>>> Stashed changes
    "\n",
    "# m = folium.Map(location=[45.422363, -75.681972], zoom_start=13)\n",
    "outMap\n"
   ]
  }
 ],
 "metadata": {
  "kernelspec": {
   "display_name": "Python 3",
   "language": "python",
   "name": "python3"
  },
  "language_info": {
   "codemirror_mode": {
    "name": "ipython",
    "version": 3
   },
   "file_extension": ".py",
   "mimetype": "text/x-python",
   "name": "python",
   "nbconvert_exporter": "python",
   "pygments_lexer": "ipython3",
   "version": "3.10.4"
  },
  "orig_nbformat": 4,
  "vscode": {
   "interpreter": {
    "hash": "4593b52a31704b5155580280f0f05a500adb36bf97584c7e94e26dfe17ea16d9"
   }
  }
 },
 "nbformat": 4,
 "nbformat_minor": 2
}
