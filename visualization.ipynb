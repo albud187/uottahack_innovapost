{
 "cells": [
  {
   "cell_type": "code",
   "execution_count": 14,
   "metadata": {},
   "outputs": [
    {
     "name": "stdout",
     "output_type": "stream",
     "text": [
      "45.42572227810338\n",
      "-75.67038726640584\n",
      "45.390976\n",
      "-75.685841\n"
     ]
    }
   ],
   "source": [
    "import folium\n",
    "\n",
    "# function takes in a list of any size (at least two items) containing gps coordinates as tuples\n",
    "def generate_map(coorList):\n",
    "\n",
    "    # initialize map from starting point (first tuple in list)\n",
    "    m = folium.Map(location=[coorList[0][0], coorList[0][1]])\n",
    "\n",
    "    # create a marker for every other point in list\n",
    "    for i in range(len(coorList[1:])):\n",
    "        # print(coorList[i+1][0])\n",
    "        # print(coorList[i+1][1])\n",
    "        folium.Marker([coorList[i+1][0], coorList[i+1][1]],\n",
    "                      icon=folium.Icon(color='blue', icon_color='white')\n",
    "                      ).add_to(m)\n",
    "        \n",
    "    # add a line to connect the points\n",
    "    # folium.PolyLine\n",
    "\n",
    "\n",
    "generate_map([(45.422363, -75.681972), (45.42572227810338, -\n",
    "             75.67038726640584), (45.390976, -75.685841)])\n",
    "\n",
    "# m = folium.Map(location=[45.422363, -75.681972], zoom_start=13)\n",
    "# m\n"
   ]
  }
 ],
 "metadata": {
  "kernelspec": {
   "display_name": "base",
   "language": "python",
   "name": "python3"
  },
  "language_info": {
   "codemirror_mode": {
    "name": "ipython",
    "version": 3
   },
   "file_extension": ".py",
   "mimetype": "text/x-python",
   "name": "python",
   "nbconvert_exporter": "python",
   "pygments_lexer": "ipython3",
   "version": "3.9.13"
  },
  "orig_nbformat": 4,
  "vscode": {
   "interpreter": {
    "hash": "ffcc676781dc20976242fd4614c4c0f92a12fd6b5e4f50148b3ae17dd0852a0e"
   }
  }
 },
 "nbformat": 4,
 "nbformat_minor": 2
}
