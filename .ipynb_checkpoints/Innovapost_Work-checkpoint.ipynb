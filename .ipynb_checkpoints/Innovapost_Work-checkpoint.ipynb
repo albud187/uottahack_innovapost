{
 "cells": [
  {
   "cell_type": "code",
   "execution_count": 80,
   "metadata": {},
   "outputs": [],
   "source": [
    "import numpy as np\n",
    "import matplotlib.pyplot as plt\n",
    "import pandas as pds\n",
    "import pathlib \n",
    "import math\n",
    "import cmath\n",
    "from scipy import stats\n",
    "from scipy.constants import k\n",
    "from copy import deepcopy\n",
    "import requests\n",
    "from bs4 import BeautifulSoup\n",
    "import pandas as pd\n",
    "from geopy.geocoders import Nominatim\n",
    "import random\n",
    "import folium\n",
    "from datetime import datetime\n",
    "import time\n",
    "import responses\n",
    "import googlemaps\n",
    "import numpy as np\n",
    "from sklearn.cluster import KMeans\n",
    "%matplotlib inline\n",
    "import pickle"
   ]
  },
  {
   "cell_type": "code",
   "execution_count": null,
   "metadata": {},
   "outputs": [],
   "source": []
  },
  {
   "cell_type": "code",
   "execution_count": 32,
   "metadata": {},
   "outputs": [],
   "source": [
    "with open(\"API_key.txt\", \"r\") as f:\n",
    "    GMAP_API_KEY = f.read()\n",
    "\"\"\"\n",
    "This calls the Google Maps API on all pairwise combinations of a supplied list of M addresses, and computes an MxM matrix for distances and times.\n",
    "\n",
    "Input: List of addresses\n",
    "\n",
    "Output: Distance Matrix, Time Matrix, in seconds and in meters\n",
    "\"\"\"\n",
    "\n",
    "def getGoogleTimeDistance(addresses):\n",
    "    gmaps = googlemaps.Client(key=GMAP_API_KEY)\n",
    "\n",
    "    curDate = datetime.now()\n",
    "\n",
    "    time_matrix = np.array([[0] * len(addresses)] * len(addresses))\n",
    "    distance_matrix = np.array([[0] * len(addresses)] * len(addresses))\n",
    "\n",
    "    # Iterate through all possible address combinations.\n",
    "    for i in range(0, len(addresses)):\n",
    "        for j in range(0, len(addresses)):\n",
    "\n",
    "            # Do not calculate distance for the same address\n",
    "            if i == j:\n",
    "                continue\n",
    "           \n",
    "            # Call Google API and get response.\n",
    "            result = gmaps.distance_matrix(addresses[i], addresses[j], mode='driving', units='metric',traffic_model='best_guess', departure_time=curDate)\n",
    "\n",
    "            # Index to relevant part of response JSON File.\n",
    "            curElement = result['rows'][0]['elements'][0]\n",
    "\n",
    "            # Update matrices\n",
    "            distance_matrix[i][j] = curElement['distance']['value']\n",
    "            time_matrix[i][j] = curElement['duration']['value']\n",
    "\n",
    "    return time_matrix, distance_matrix\n",
    "\n",
    "def coords_from_address(address):\n",
    "    \"\"\"\n",
    "    inputs: str address\n",
    "    outputs: tuple[float]  result_loc\n",
    "    description: converts address to into latitude and longitude\n",
    "    \"\"\"\n",
    "    geolocator = Nominatim(user_agent = \"test\")\n",
    "    location = geolocator.geocode(address)\n",
    "    result_loc = (location.latitude, location.longitude)\n",
    "    return result_loc\n",
    "\n",
    "def write_gps_to_csv(gps_list, filename):\n",
    "    df = pd.DataFrame(gps_list, columns=['Latitude', 'Longitude'])\n",
    "    df.to_csv(filename, index=False)\n",
    "    \n",
    "#write_gps_to_csv(all_coords, \"coords.csv\")"
   ]
  },
  {
   "cell_type": "code",
   "execution_count": 33,
   "metadata": {},
   "outputs": [
    {
     "name": "stdout",
     "output_type": "stream",
     "text": [
      "2701 Riverside Dr, Ottawa\n",
      "2515 Bank St, Ottawa\n",
      "30 Haxby Private, Ottawa\n",
      "116 Sai Crescent\n",
      "214 Plymouth St, Ottawa\n",
      "266 Lorry Greenberg Dr, Ottawa\n",
      "800 King Edward Ave, Ottawa\n",
      "2210 Bank St, Ottawa\n",
      "2161 Thurston Dr, Ottawa\n",
      "23 Ella Street, Ottawa\n",
      "11 Oblats Avenue, Ottawa\n",
      "422 Byron Avenue, Ottawa\n",
      "1680 Fisher Avenue, Ottawa\n",
      "825 Cahill Drive, Ottawa\n",
      "1125 Colonel By Dr, Ottawa\n",
      "54 Hawk Crescent, Ottawa\n",
      "1380 Prince of Wales Drive, Ottawa\n",
      "75 Laurier Ave. E, Ottawa, Ontario, Canada\n",
      "14 Waller St, Ottawa, Ontario, Canada\n",
      "363 Rideau St, Ottawa, Ontario, Canada\n"
     ]
    }
   ],
   "source": [
    "coords = []\n",
    "addrs = [\n",
    "    \"2701 Riverside Dr, Ottawa\",\n",
    "    \"2515 Bank St, Ottawa\",\n",
    "    \"30 Haxby Private, Ottawa\",\n",
    "    \"116 Sai Crescent\",\n",
    "    \"214 Plymouth St, Ottawa\",\n",
    "    \"266 Lorry Greenberg Dr, Ottawa\",\n",
    "    \"800 King Edward Ave, Ottawa\",\n",
    "    \"2210 Bank St, Ottawa\",\n",
    "    \"2161 Thurston Dr, Ottawa\",\n",
    "    \"23 Ella Street, Ottawa\",\n",
    "    \"11 Oblats Avenue, Ottawa\",\n",
    "    \"422 Byron Avenue, Ottawa\",\n",
    "    \"1680 Fisher Avenue, Ottawa\",\n",
    "    \"825 Cahill Drive, Ottawa\",\n",
    "    \"1125 Colonel By Dr, Ottawa\",\n",
    "    \"54 Hawk Crescent, Ottawa\",\n",
    "    \"1380 Prince of Wales Drive, Ottawa\",\n",
    "    \"75 Laurier Ave. E, Ottawa, Ontario, Canada\",\n",
    "    \"14 Waller St, Ottawa, Ontario, Canada\",\n",
    "    \"363 Rideau St, Ottawa, Ontario, Canada\",]\n",
    "\n",
    "for addr in addrs:\n",
    "    print(addr)\n",
    "    coords.append(coords_from_address(addr))\n",
    "    time.sleep(1)\n",
    "\n",
    "\n"
   ]
  },
  {
   "cell_type": "code",
   "execution_count": null,
   "metadata": {},
   "outputs": [],
   "source": [
    "#T_mat, D_mat = getGoogleTimeDistance(addrs)\n"
   ]
  },
  {
   "cell_type": "code",
   "execution_count": 36,
   "metadata": {},
   "outputs": [],
   "source": [
    "#pickle\n",
    "with open('T_mat','wb') as f1: \n",
    "    pickle.dump(T_mat, f1)\n",
    "\n",
    "with open('T_mat','rb') as f2:\n",
    "    new_T_mat = pickle.load(f2)\n",
    "    \n",
    "with open('D_mat','wb') as f3: \n",
    "    pickle.dump(D_mat, f3)\n",
    "\n",
    "with open('D_mat','rb') as f4:\n",
    "    new_D_mat = pickle.load(f4)"
   ]
  },
  {
   "cell_type": "code",
   "execution_count": 41,
   "metadata": {},
   "outputs": [],
   "source": [
    "#exclude index zero because that is caanda post HQ\n",
    "\n",
    "\n",
    "\n"
   ]
  },
  {
   "cell_type": "code",
   "execution_count": 58,
   "metadata": {},
   "outputs": [],
   "source": [
    "coords_array = np.array(delivery_coords)\n",
    "n_trucks = 3\n",
    "kmeans = KMeans(n_clusters=n_trucks).fit(coords_array) \n",
    "\n",
    "\n",
    "cluster_map = pd.DataFrame()\n",
    "cluster_map['destination_index'] = np.arange(len(coords_array))\n",
    "cluster_map['cluster'] = kmeans.labels_"
   ]
  },
  {
   "cell_type": "code",
   "execution_count": 158,
   "metadata": {},
   "outputs": [],
   "source": [
    "def assign_destinations(delivery_coordinates, addresses, n_trucks):\n",
    "    \"\"\"\n",
    "    inputs: list(tuple) delivery coordinates, int n_trucks\n",
    "    outputs: dict[list[int]] Allocation\n",
    "    determines which trucks go where, referencing index of original address list and D_mat\n",
    "    \"\"\"\n",
    "    coords_array = np.array(delivery_coords)\n",
    "    kmeans = KMeans(n_clusters=n_trucks).fit(coords_array) \n",
    "    cluster_map = pd.DataFrame()\n",
    "    #add one because the start location isnt counted\n",
    "    cluster_map['destination_index'] = np.arange(len(coords_array))\n",
    "    cluster_map['cluster'] = kmeans.labels_\n",
    "    \n",
    "    Allocation = {}\n",
    "    for c_idx in set(cluster_map[\"cluster\"]):\n",
    "        location_details = []\n",
    "        \n",
    "        destination_idxs = list(cluster_map[cluster_map[\"cluster\"]==c_idx][\"destination_index\"])\n",
    "        for i in destination_idxs:\n",
    "            \n",
    "            loc_detail = (i+1, delivery_coordinates[i], addresses[i])\n",
    "            \n",
    "            location_details.append(loc_detail)\n",
    "            \n",
    "        Allocation[c_idx] = location_details\n",
    "        #print(Allocation)\n",
    "        \n",
    "    return Allocation\n",
    "\n",
    "def sub_DT_mats(Allocation):\n",
    "    T_mats = {}\n",
    "    D_mats = {}\n",
    "    for t in Allocation.keys():\n",
    "        \n",
    "        addresses = []\n",
    "        for loc_detail in Allocation[t]:\n",
    "            addresses.append(loc_detail[2])\n",
    "        T_mat, D_mat = getGoogleTimeDistance(addresses)\n",
    "        T_mats[t] = T_mat\n",
    "        D_mats[t] = D_mat\n",
    "        \n",
    "        \n",
    "    return T_mats, D_mats\n",
    "    #extract list of addresses from allocation\n",
    "\n",
    "def initial_configs(Allocation):\n",
    "    configs = {}\n",
    "    "
   ]
  },
  {
   "cell_type": "code",
   "execution_count": 121,
   "metadata": {},
   "outputs": [],
   "source": [
    "delivery_coords = coords[1:]\n",
    "addresses = addrs[1:]\n",
    "destination_assignment = assign_destinations(delivery_coords, addresses, 3)"
   ]
  },
  {
   "cell_type": "code",
   "execution_count": 133,
   "metadata": {},
   "outputs": [],
   "source": [
    "destination_assignment = assign_destinations(delivery_coords, addresses, 3)"
   ]
  },
  {
   "cell_type": "code",
   "execution_count": 137,
   "metadata": {},
   "outputs": [
    {
     "data": {
      "text/plain": [
       "(1, (45.354957, -75.64506230308237), '2515 Bank St, Ottawa')"
      ]
     },
     "execution_count": 137,
     "metadata": {},
     "output_type": "execute_result"
    }
   ],
   "source": [
    "destination_assignment[0][0]"
   ]
  },
  {
   "cell_type": "code",
   "execution_count": 159,
   "metadata": {},
   "outputs": [],
   "source": [
    "T_mats, D_mats = sub_DT_mats(destination_assignment)"
   ]
  },
  {
   "cell_type": "code",
   "execution_count": 162,
   "metadata": {},
   "outputs": [
    {
     "data": {
      "text/plain": [
       "{0: array([[  0, 359, 494, 344, 307, 435, 409, 405],\n",
       "        [346,   0, 443, 184, 348, 279, 551, 547],\n",
       "        [472, 418,   0, 385, 608, 297, 709, 705],\n",
       "        [245, 176, 434,   0, 381, 237, 482, 478],\n",
       "        [308, 346, 641, 426,   0, 521, 335, 332],\n",
       "        [413, 275, 335, 243, 518,   0, 650, 646],\n",
       "        [375, 560, 709, 558, 403, 650,   0, 207],\n",
       "        [394, 578, 727, 577, 421, 668, 239,   0]]),\n",
       " 1: array([[  0, 769, 311, 547, 718, 767, 782],\n",
       "        [280,   0, 420, 224, 312, 541, 392],\n",
       "        [284, 716,   0, 495, 665, 765, 803],\n",
       "        [428, 405, 518,   0, 354, 583, 491],\n",
       "        [407, 127, 548, 351,   0, 301, 223],\n",
       "        [494, 422, 635, 430, 369,   0, 238],\n",
       "        [599, 319, 739, 543, 266, 165,   0]]),\n",
       " 2: array([[  0, 691, 911, 716],\n",
       "        [678,   0, 557, 252],\n",
       "        [881, 528,   0, 368],\n",
       "        [785, 307, 503,   0]])}"
      ]
     },
     "execution_count": 162,
     "metadata": {},
     "output_type": "execute_result"
    }
   ],
   "source": [
    "T_mats"
   ]
  },
  {
   "cell_type": "code",
   "execution_count": 157,
   "metadata": {},
   "outputs": [
    {
     "data": {
      "text/plain": [
       "{0: {...}, 1: {...}, 2: {...}}"
      ]
     },
     "execution_count": 157,
     "metadata": {},
     "output_type": "execute_result"
    }
   ],
   "source": []
  },
  {
   "cell_type": "code",
   "execution_count": null,
   "metadata": {},
   "outputs": [],
   "source": [
    "def find_clusters(detections, next_diff_TH, prev_diff_TH):\n",
    "    X = np.array(detections)\n",
    "    inertias = []\n",
    "    convergence = False\n",
    "    i=0\n",
    "    while convergence == False:\n",
    "        i+=1\n",
    "        kmeans = KMeans(n_clusters=i, random_state=0, max_iter=5).fit(X) \n",
    "        inertia = kmeans.inertia_\n",
    "        inertias.append(inertia)\n",
    "\n",
    "        if len(inertias)>3:\n",
    "            next_difference = abs((inertias[-1]-inertias[-2])/inertias[-2])\n",
    "            prev_difference = abs((inertias[-2]-inertias[-3])/inertias[-3])\n",
    "            if next_difference < next_diff_TH and prev_difference > prev_diff_TH:\n",
    "                convergence = True\n",
    "    n_clusters = i-1\n",
    "    kmeans = KMeans(n_clusters=n_clusters, random_state=0, max_iter=5).fit(X)\n",
    "    return (kmeans.cluster_centers_)"
   ]
  },
  {
   "cell_type": "code",
   "execution_count": 25,
   "metadata": {},
   "outputs": [],
   "source": [
    "def cost_function(start_idx, end_idx, distance_matrix, lookup_tables):\n",
    "    \"\"\"\n",
    "    inputs: int start_idx, int end_idx, nparray distance_matrix, list[str] lookup_tables\n",
    "    outputs: float cost\n",
    "    description: calculates the cost to go from start_idx to end_idx. These idx correspond to distance matrix.\n",
    "    cost also factors in weather and traffic, information could be obtained from a lookup table\n",
    "    lookup_tables is filepath to csv file, which would be read to generate our lookup table\n",
    "    \"\"\"\n",
    "    pass\n",
    "\n",
    "def cost_matrix(distance_matrix, time_matrix, lookup_tables):\n",
    "    \"\"\"\n",
    "    inputs: nparray distance_matrix, nparray time_matrix, str lookup_tables \n",
    "    outputs: nparray cost_mat\n",
    "    description: returns an array that calculates the cost to go from one node to another, for all nodes\n",
    "    \"\"\"\n",
    "    pass\n",
    "\n",
    "def cluster_coords(coordinates, N_trucks):\n",
    "    \"\"\"\n",
    "    inputs: list coordinates, int N_trucks\n",
    "    outputs: list[list] grouped_coords\n",
    "    description: groups the coordinates into n_clusters, where N_trucks = n_clusters\n",
    "    grouped_coords is a list of lists containing coordinates, ex: grouped_coords[0] = list of all coordinates in cluster 0\n",
    "    \"\"\"\n",
    "    pass\n",
    "\n",
    "def sTSP(cost_matrix):\n",
    "    \"\"\"\n",
    "    inputs: nparray cost_matrix\n",
    "    outputs: list[tuple]\n",
    "    description: calculates optimal sequence for a delivery truck\n",
    "    \"\"\"\n",
    "    \n",
    "def plot_route(travel_seq):\n",
    "    \"\"\"\n",
    "    inputs: list[tuple] travel_seq\n",
    "    outputs: none\n",
    "    description: visualizes travel route on folium\n",
    "    \"\"\""
   ]
  },
  {
   "cell_type": "code",
   "execution_count": null,
   "metadata": {},
   "outputs": [],
   "source": []
  }
 ],
 "metadata": {
  "kernelspec": {
   "display_name": "Python 3",
   "language": "python",
   "name": "python3"
  },
  "language_info": {
   "codemirror_mode": {
    "name": "ipython",
    "version": 3
   },
   "file_extension": ".py",
   "mimetype": "text/x-python",
   "name": "python",
   "nbconvert_exporter": "python",
   "pygments_lexer": "ipython3",
   "version": "3.8.3"
  }
 },
 "nbformat": 4,
 "nbformat_minor": 4
}
